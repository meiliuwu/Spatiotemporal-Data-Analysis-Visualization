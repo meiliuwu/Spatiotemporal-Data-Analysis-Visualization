{
 "cells": [
  {
   "cell_type": "markdown",
   "metadata": {},
   "source": [
    "# Geog 573 (675) Advanced Geocomputing and Geospatial Big Data Analytics\n",
    "# by Prof. Song Gao (song.gao@wisc.edu)\n",
    "# Lab2-Twitter API"
   ]
  },
  {
   "cell_type": "markdown",
   "metadata": {},
   "source": [
    "This is this first in a series of notebooks designed to show you how to download and analyze social media big data. You need to acquire your API keys from the Twitter developer site, as shown in this tutorial:\n",
    "\n",
    "- <a href=\"http://social-metrics.org/api-keys/\" target=\"_blank\">Setting up Access to the Twitter API</a>\n",
    "\n",
    "In this notebook I will show you how to use the API keys you've acquired to collect geotagged tweet data.\n",
    "<br>"
   ]
  },
  {
   "cell_type": "markdown",
   "metadata": {},
   "source": [
    "# OAuth1 Authentication (*user* authentication)\n",
    "Twitter and other social media platforms use a form of authentication known as 'OAuth' authentication. There are two types. *OAuth1* authentication on Twitter is a user-level authentication. For this you'll use the four-part password you generated in the tutorial <a href=\"http://social-metrics.org/api-keys/\" target=\"_blank\">Setting up Access to the Twitter API</a>"
   ]
  },
  {
   "cell_type": "markdown",
   "metadata": {},
   "source": [
    "##### Generated Automatically -- Copy from Your 'Keys and Access Tokens' Page\n",
    "Your *Consumer API keys*, *Consumer API SECRET keys*, *APP_KEY* and *APP_SECRET* will not change"
   ]
  },
  {
   "cell_type": "code",
   "execution_count": 21,
   "metadata": {},
   "outputs": [
    {
     "name": "stdout",
     "output_type": "stream",
     "text": [
      "········\n"
     ]
    }
   ],
   "source": [
    "# Set Twitter authentication keys\n",
    "#CONSUMER_KEY= 'YOUR CONSUMER_KEY'\n",
    "#CONSUMER_SECRET='YOUR CONSUMER_SECRET KEY'\n",
    "#ACCESS_KEY = 'YOUR APP KEY'\n",
    "#ACCESS_SECRET = 'YOUR APP SECRET'\n",
    "import getpass\n",
    "CONSUMER_KEY = getpass.getpass() # type in or copy 'YOUR CONSUMER_KEY' here"
   ]
  },
  {
   "cell_type": "code",
   "execution_count": 22,
   "metadata": {},
   "outputs": [
    {
     "name": "stdout",
     "output_type": "stream",
     "text": [
      "········\n"
     ]
    }
   ],
   "source": [
    "CONSUMER_SECRET= getpass.getpass() # type in or copy 'YOUR CONSUMER_SECRET' here"
   ]
  },
  {
   "cell_type": "code",
   "execution_count": 23,
   "metadata": {},
   "outputs": [
    {
     "name": "stdout",
     "output_type": "stream",
     "text": [
      "········\n"
     ]
    }
   ],
   "source": [
    "ACCESS_KEY = getpass.getpass() # type in or copy 'YOUR APP_KEY' here"
   ]
  },
  {
   "cell_type": "code",
   "execution_count": 24,
   "metadata": {},
   "outputs": [
    {
     "name": "stdout",
     "output_type": "stream",
     "text": [
      "········\n"
     ]
    }
   ],
   "source": [
    "ACCESS_SECRET = getpass.getpass() # type in or copy 'YOUR APP_SECRET' here"
   ]
  },
  {
   "cell_type": "markdown",
   "metadata": {},
   "source": [
    "##### Check your App search rate limit\n",
    "url=https://developer.twitter.com/en/docs/tweets/search/api-reference/get-search-tweets.html"
   ]
  },
  {
   "cell_type": "markdown",
   "metadata": {},
   "source": [
    "##### Print out your keys  to check"
   ]
  },
  {
   "cell_type": "code",
   "execution_count": null,
   "metadata": {},
   "outputs": [],
   "source": [
    "print (CONSUMER_KEY, CONSUMER_SECRET, Access_KEY, ACCESS_SECRET) "
   ]
  },
  {
   "cell_type": "markdown",
   "metadata": {},
   "source": [
    "# Twitter Data Collection"
   ]
  },
  {
   "cell_type": "markdown",
   "metadata": {},
   "source": [
    "Search Tweets <br>\n",
    "url=https://developer.twitter.com/en/docs/tweets/search/api-reference/get-search-tweets.html\n",
    "\n",
    "tweepy documentation <br>\n",
    "url=http://docs.tweepy.org/en/v3.5.0/getting_started.html"
   ]
  },
  {
   "cell_type": "code",
   "execution_count": 28,
   "metadata": {},
   "outputs": [
    {
     "name": "stdout",
     "output_type": "stream",
     "text": [
      "END\n"
     ]
    }
   ],
   "source": [
    "import sys\n",
    "import tweepy\n",
    "import os\n",
    "import json\n",
    "\n",
    "# Set Twitter authentication keys first\n",
    "\n",
    "MAX_TWEETS = 100 # maximum number of tweets that you plan to collect\n",
    "auth = tweepy.OAuthHandler(CONSUMER_KEY, CONSUMER_SECRET)\n",
    "auth.set_access_token(ACCESS_KEY, ACCESS_SECRET)\n",
    "api = tweepy.API(auth_handler=auth,wait_on_rate_limit=True,wait_on_rate_limit_notify=True)\n",
    "untilDate=\"2019-02-12\"\n",
    "keywords = ['madison','cold'] # you can change to any hashtags you like\n",
    "geoParameters='43.074896,-89.384381,5mi' # 5mi search range to the center of State Capitol Wisconsin\n",
    "f=open('geotweets'+geoParameters+'.json','a')\n",
    "f.write('[')\n",
    "for tweet in tweepy.Cursor(api.search, q=keywords,until=untilDate,geocode=geoParameters).items(MAX_TWEETS):\n",
    "    json.dump(tweet._json, f)\n",
    "    f.write(',\\n')\n",
    "f.write(']')\n",
    "f.close()                                        \n",
    "print('END')"
   ]
  },
  {
   "cell_type": "markdown",
   "metadata": {},
   "source": [
    "# Lab 2 Task"
   ]
  },
  {
   "cell_type": "markdown",
   "metadata": {},
   "source": [
    "### Hand-in \n",
    "•\tPlease collect your answers in a single .ipynb or .py file called lab2_yourname.ipynb or lab2_yourname.py <br>\n",
    "•\tSubmit the files to the assignment folder called “Lab 2”. <br>\n",
    "•\tInclude appropriate comments to explain what each line or block of code accomplishes. You must comment your code for full credit. <br>\n",
    "•\tThe Twitter JSON file public URL link to Amazon S3. <br>"
   ]
  },
  {
   "cell_type": "markdown",
   "metadata": {},
   "source": [
    "In last lab, you will create python scripts to collect 1000 geotagged tweets based on your interested hashtags/keywords and the geographic region using the Twitter Search API, save the data in the JSON format, and store the data to Amazon S3 cloud storage. "
   ]
  },
  {
   "cell_type": "markdown",
   "metadata": {},
   "source": [
    "## Due Date: Two weeks later (Feb. 21, 2019)"
   ]
  }
 ],
 "metadata": {
  "kernelspec": {
   "display_name": "Python 3",
   "language": "python",
   "name": "python3"
  },
  "language_info": {
   "codemirror_mode": {
    "name": "ipython",
    "version": 3
   },
   "file_extension": ".py",
   "mimetype": "text/x-python",
   "name": "python",
   "nbconvert_exporter": "python",
   "pygments_lexer": "ipython3",
   "version": "3.6.2"
  }
 },
 "nbformat": 4,
 "nbformat_minor": 1
}
