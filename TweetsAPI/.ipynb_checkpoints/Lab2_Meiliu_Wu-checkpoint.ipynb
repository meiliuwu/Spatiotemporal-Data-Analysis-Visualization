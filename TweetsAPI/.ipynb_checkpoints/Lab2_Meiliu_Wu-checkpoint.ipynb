{
 "cells": [
  {
   "cell_type": "markdown",
   "metadata": {},
   "source": [
    "# Geog 573 (675) Advanced Geocomputing and Geospatial Big Data Analytics\n",
    "# Lab2-Twitter API\n",
    "## by Meiliu Wu (mwu233@wisc.edu)"
   ]
  },
  {
   "cell_type": "markdown",
   "metadata": {},
   "source": [
    "## OAuth1 Authentication (*user* authentication)\n",
    "Twitter and other social media platforms use a form of authentication known as 'OAuth' authentication. There are two types. *OAuth1* authentication on Twitter is a user-level authentication. For this you'll use the four-part password you generated in the tutorial <a href=\"http://social-metrics.org/api-keys/\" target=\"_blank\">Setting up Access to the Twitter API</a>"
   ]
  },
  {
   "cell_type": "markdown",
   "metadata": {},
   "source": [
    "##### Generated Automatically -- Copy from the 'Keys and Access Tokens' Page\n",
    "Your *Consumer API keys*, *Consumer API SECRET keys*, *APP_KEY* and *APP_SECRET* will not change"
   ]
  },
  {
   "cell_type": "code",
   "execution_count": 3,
   "metadata": {},
   "outputs": [
    {
     "name": "stdout",
     "output_type": "stream",
     "text": [
      "········\n"
     ]
    }
   ],
   "source": [
    "# Set Twitter authentication keys\n",
    "#CONSUMER_KEY= 'YOUR CONSUMER_KEY'\n",
    "#CONSUMER_SECRET='YOUR CONSUMER_SECRET KEY'\n",
    "#ACCESS_KEY = 'YOUR APP KEY'\n",
    "#ACCESS_SECRET = 'YOUR APP SECRET'\n",
    "\n",
    "import getpass\n",
    "CONSUMER_KEY = getpass.getpass() # type in or copy 'YOUR CONSUMER_KEY' here"
   ]
  },
  {
   "cell_type": "code",
   "execution_count": 4,
   "metadata": {},
   "outputs": [
    {
     "name": "stdout",
     "output_type": "stream",
     "text": [
      "········\n"
     ]
    }
   ],
   "source": [
    "CONSUMER_SECRET = getpass.getpass()"
   ]
  },
  {
   "cell_type": "code",
   "execution_count": 5,
   "metadata": {},
   "outputs": [
    {
     "name": "stdout",
     "output_type": "stream",
     "text": [
      "········\n"
     ]
    }
   ],
   "source": [
    "ACCESS_KEY = getpass.getpass()"
   ]
  },
  {
   "cell_type": "code",
   "execution_count": 6,
   "metadata": {},
   "outputs": [
    {
     "name": "stdout",
     "output_type": "stream",
     "text": [
      "········\n"
     ]
    }
   ],
   "source": [
    "ACCESS_SECRET = getpass.getpass()"
   ]
  },
  {
   "cell_type": "markdown",
   "metadata": {},
   "source": [
    "##### Print out your keys  to check"
   ]
  },
  {
   "cell_type": "code",
   "execution_count": 3,
   "metadata": {},
   "outputs": [
    {
     "ename": "NameError",
     "evalue": "name 'CONSUMER_KEY' is not defined",
     "output_type": "error",
     "traceback": [
      "\u001b[1;31m---------------------------------------------------------------------------\u001b[0m",
      "\u001b[1;31mNameError\u001b[0m                                 Traceback (most recent call last)",
      "\u001b[1;32m<ipython-input-3-50f99dce4db2>\u001b[0m in \u001b[0;36m<module>\u001b[1;34m()\u001b[0m\n\u001b[1;32m----> 1\u001b[1;33m \u001b[0mprint\u001b[0m \u001b[1;33m(\u001b[0m\u001b[0mCONSUMER_KEY\u001b[0m\u001b[1;33m,\u001b[0m \u001b[0mCONSUMER_SECRET\u001b[0m\u001b[1;33m,\u001b[0m \u001b[0mACCESS_KEY\u001b[0m\u001b[1;33m,\u001b[0m \u001b[0mACCESS_SECRET\u001b[0m\u001b[1;33m)\u001b[0m\u001b[1;33m\u001b[0m\u001b[0m\n\u001b[0m",
      "\u001b[1;31mNameError\u001b[0m: name 'CONSUMER_KEY' is not defined"
     ]
    }
   ],
   "source": [
    "print (CONSUMER_KEY, CONSUMER_SECRET, ACCESS_KEY, ACCESS_SECRET) "
   ]
  },
  {
   "cell_type": "markdown",
   "metadata": {},
   "source": [
    "## Twitter Data Collection"
   ]
  },
  {
   "cell_type": "code",
   "execution_count": 1,
   "metadata": {},
   "outputs": [],
   "source": [
    "# import packages\n",
    "import sys\n",
    "import tweepy\n",
    "import os\n",
    "import json"
   ]
  },
  {
   "cell_type": "code",
   "execution_count": 2,
   "metadata": {},
   "outputs": [
    {
     "ename": "NameError",
     "evalue": "name 'CONSUMER_KEY' is not defined",
     "output_type": "error",
     "traceback": [
      "\u001b[1;31m---------------------------------------------------------------------------\u001b[0m",
      "\u001b[1;31mNameError\u001b[0m                                 Traceback (most recent call last)",
      "\u001b[1;32m<ipython-input-2-7ec4e84eb50c>\u001b[0m in \u001b[0;36m<module>\u001b[1;34m()\u001b[0m\n\u001b[0;32m      3\u001b[0m \u001b[1;31m# Set parameters for tweepy.Cursor\u001b[0m\u001b[1;33m\u001b[0m\u001b[1;33m\u001b[0m\u001b[0m\n\u001b[0;32m      4\u001b[0m \u001b[0mMAX_TWEETS\u001b[0m \u001b[1;33m=\u001b[0m \u001b[1;36m10000\u001b[0m \u001b[1;31m# maximum number of tweets that you plan to collect\u001b[0m\u001b[1;33m\u001b[0m\u001b[0m\n\u001b[1;32m----> 5\u001b[1;33m \u001b[0mauth\u001b[0m \u001b[1;33m=\u001b[0m \u001b[0mtweepy\u001b[0m\u001b[1;33m.\u001b[0m\u001b[0mOAuthHandler\u001b[0m\u001b[1;33m(\u001b[0m\u001b[0mCONSUMER_KEY\u001b[0m\u001b[1;33m,\u001b[0m \u001b[0mCONSUMER_SECRET\u001b[0m\u001b[1;33m)\u001b[0m\u001b[1;33m\u001b[0m\u001b[0m\n\u001b[0m\u001b[0;32m      6\u001b[0m \u001b[0mauth\u001b[0m\u001b[1;33m.\u001b[0m\u001b[0mset_access_token\u001b[0m\u001b[1;33m(\u001b[0m\u001b[0mACCESS_KEY\u001b[0m\u001b[1;33m,\u001b[0m \u001b[0mACCESS_SECRET\u001b[0m\u001b[1;33m)\u001b[0m\u001b[1;33m\u001b[0m\u001b[0m\n\u001b[0;32m      7\u001b[0m \u001b[0mapi\u001b[0m \u001b[1;33m=\u001b[0m \u001b[0mtweepy\u001b[0m\u001b[1;33m.\u001b[0m\u001b[0mAPI\u001b[0m\u001b[1;33m(\u001b[0m\u001b[0mauth_handler\u001b[0m\u001b[1;33m=\u001b[0m\u001b[0mauth\u001b[0m\u001b[1;33m,\u001b[0m\u001b[0mwait_on_rate_limit\u001b[0m\u001b[1;33m=\u001b[0m\u001b[1;32mTrue\u001b[0m\u001b[1;33m,\u001b[0m\u001b[0mwait_on_rate_limit_notify\u001b[0m\u001b[1;33m=\u001b[0m\u001b[1;32mTrue\u001b[0m\u001b[1;33m)\u001b[0m\u001b[1;33m\u001b[0m\u001b[0m\n",
      "\u001b[1;31mNameError\u001b[0m: name 'CONSUMER_KEY' is not defined"
     ]
    }
   ],
   "source": [
    "# Set Twitter authentication keys first\n",
    "\n",
    "# Set parameters for tweepy.Cursor\n",
    "MAX_TWEETS = 10000 # maximum number of tweets that you plan to collect\n",
    "auth = tweepy.OAuthHandler(CONSUMER_KEY, CONSUMER_SECRET)\n",
    "auth.set_access_token(ACCESS_KEY, ACCESS_SECRET)\n",
    "api = tweepy.API(auth_handler=auth,wait_on_rate_limit=True,wait_on_rate_limit_notify=True)\n",
    "untilDate=\"2019-02-12\" # collect data from the past 7 days - limitation from twitter\n",
    "keywords = ['Brexit plan','Theresa May'] # you can change to any hashtags you like\n",
    "geoParameters='51.499519,-0.124831,15mi' # 15mi search range to the Houses of Parliament\n",
    "\n",
    "# Run tweepy.Cursor and save each tweet into a json file\n",
    "filename = 'geotweets_'+geoParameters+'_'+keywords[0]+'_'+keywords[1]+'_'+untilDate+'.json'\n",
    "f=open(filename,'a')\n",
    "f.write('[\\n') # make a list to store the tweets\n",
    "for tweet in tweepy.Cursor(api.search, q=keywords,until=untilDate,geocode=geoParameters).items(MAX_TWEETS):\n",
    "    json.dump(tweet._json, f, indent=4)\n",
    "    f.write(',\\n')\n",
    "f.close()\n",
    "\n",
    "# Delete the last redundant comma\n",
    "with open(filename, 'rb+') as f:\n",
    "    f.seek(0,2)                 # end of file\n",
    "    size=f.tell()               # the size of the file\n",
    "    f.truncate(size-3)          # truncate at that size - how ever many characters\n",
    "\n",
    "# Add the ']' character at the end\n",
    "f=open(filename,'a')\n",
    "f.write('\\n]')\n",
    "f.close()\n",
    "\n",
    "print('END')\n",
    "\n",
    "# AWS S3: make it pulic \n",
    "# there is Object URL after uploading the json file containing the data that was downloaded from Twitter API "
   ]
  },
  {
   "cell_type": "code",
   "execution_count": 21,
   "metadata": {},
   "outputs": [],
   "source": [
    "# os.remove(filename)"
   ]
  },
  {
   "cell_type": "code",
   "execution_count": null,
   "metadata": {},
   "outputs": [],
   "source": []
  }
 ],
 "metadata": {
  "kernelspec": {
   "display_name": "Python 3",
   "language": "python",
   "name": "python3"
  },
  "language_info": {
   "codemirror_mode": {
    "name": "ipython",
    "version": 3
   },
   "file_extension": ".py",
   "mimetype": "text/x-python",
   "name": "python",
   "nbconvert_exporter": "python",
   "pygments_lexer": "ipython3",
   "version": "3.6.2"
  }
 },
 "nbformat": 4,
 "nbformat_minor": 2
}
