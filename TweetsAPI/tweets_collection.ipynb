{
 "cells": [
  {
   "cell_type": "code",
   "execution_count": null,
   "metadata": {},
   "outputs": [],
   "source": [
    "import json\n",
    "from tweepy import Stream\n",
    "from tweepy import OAuthHandler\n",
    "from tweepy.streaming import StreamListener\n",
    "\n",
    "#Enter Twitter API Key information\n",
    "consumer_key = \"\"\n",
    "consumer_secret = \"\"\n",
    "access_token = \"\"\n",
    "access_secret = \"\"\n",
    "\n",
    "file = open(\"Coordinates.csv\", \"a\")\n",
    "#file.write(\"lon,lat\\n\")\n",
    "\n",
    "data_list4 = []\n",
    "count = 0\n",
    "\n",
    "class listener(StreamListener):\n",
    "\n",
    "    def on_data(self, data):\n",
    "        global count\n",
    "\n",
    "        #How many tweets you want to find, could change to time based\n",
    "        if count <= 10:\n",
    "            json_data = json.loads(data)\n",
    "\n",
    "            coords = json_data[\"coordinates\"]\n",
    "            if coords is not None:\n",
    "               print(coords[\"coordinates\"])\n",
    "               lon = coords[\"coordinates\"][0]\n",
    "               lat = coords[\"coordinates\"][1]\n",
    "\n",
    "               data_list4.append(json_data)\n",
    "\n",
    "               file.write(str(lon) + \",\")\n",
    "               file.write(str(lat) + \"\\n\")\n",
    "\n",
    "               count += 1\n",
    "            return True\n",
    "        else:\n",
    "            file.close()\n",
    "            return False\n",
    "\n",
    "    def on_error(self, status):\n",
    "        print(status)\n",
    "\n",
    "auth = OAuthHandler(consumer_key, consumer_secret)\n",
    "auth.set_access_token(access_token, access_secret)\n",
    "twitterStream = Stream(auth, listener())\n",
    "#What you want to search for here\n",
    "twitterStream.filter(track=[\"Captain Marvel\"])"
   ]
  },
  {
   "cell_type": "code",
   "execution_count": 14,
   "metadata": {},
   "outputs": [],
   "source": [
    "filename = \"geotweets_0311_CaptainMarvel3.json\"\n",
    "f=open(filename,'a')\n",
    "# make a list to store the tweets\n",
    "f.write('[\\n') \n",
    "for i in range(10): # data_list[i] is json_data\n",
    "    json.dump(data_list3[i], f, indent=4)\n",
    "    f.write(',\\n')\n",
    "\n",
    "json.dump(data_list3[10], f, indent=4)\n",
    "\n",
    "f.write('\\n]')\n",
    "f.close()\n",
    "print('done.')"
   ]
  },
  {
   "cell_type": "code",
   "execution_count": 18,
   "metadata": {},
   "outputs": [
    {
     "name": "stdout",
     "output_type": "stream",
     "text": [
      "done.\n"
     ]
    }
   ],
   "source": [
    "filename = \"geotweets_0311_CaptainMarvel4.json\"\n",
    "f=open(filename,'a')\n",
    "# make a list to store the tweets\n",
    "f.write('[\\n') \n",
    "for i in range(10): # data_list[i] is json_data\n",
    "    json.dump(data_list4[i], f, indent=4)\n",
    "    f.write(',\\n')\n",
    "\n",
    "json.dump(data_list4[10], f, indent=4)\n",
    "\n",
    "f.write('\\n]')\n",
    "f.close()\n",
    "print('done.')"
   ]
  },
  {
   "cell_type": "code",
   "execution_count": 21,
   "metadata": {},
   "outputs": [
    {
     "name": "stdout",
     "output_type": "stream",
     "text": [
      "done.\n"
     ]
    }
   ],
   "source": [
    "filename = \"geotweets_0311_CaptainMarvel_all.json\"\n",
    "f=open(filename,'a')\n",
    "# make a list to store the tweets\n",
    "f.write('[\\n') \n",
    "\n",
    "# merge tweets into one json file\n",
    "for i in range(11): # data_list2[i] is json_data\n",
    "    json.dump(data_list2[i], f, indent=4)\n",
    "    f.write(',\\n')\n",
    "    \n",
    "for i in range(11): # data_list3[i] is json_data\n",
    "    json.dump(data_list3[i], f, indent=4)\n",
    "    f.write(',\\n')\n",
    "\n",
    "for i in range(10): # data_list4[i] is json_data\n",
    "    json.dump(data_list4[i], f, indent=4)\n",
    "    f.write(',\\n')\n",
    "    \n",
    "json.dump(data_list4[10], f, indent=4)\n",
    "\n",
    "f.write('\\n]')\n",
    "f.close()\n",
    "\n",
    "print('done.')"
   ]
  },
  {
   "cell_type": "code",
   "execution_count": null,
   "metadata": {},
   "outputs": [],
   "source": []
  }
 ],
 "metadata": {
  "kernelspec": {
   "display_name": "Python 3",
   "language": "python",
   "name": "python3"
  },
  "language_info": {
   "codemirror_mode": {
    "name": "ipython",
    "version": 3
   },
   "file_extension": ".py",
   "mimetype": "text/x-python",
   "name": "python",
   "nbconvert_exporter": "python",
   "pygments_lexer": "ipython3",
   "version": "3.6.2"
  }
 },
 "nbformat": 4,
 "nbformat_minor": 2
}
