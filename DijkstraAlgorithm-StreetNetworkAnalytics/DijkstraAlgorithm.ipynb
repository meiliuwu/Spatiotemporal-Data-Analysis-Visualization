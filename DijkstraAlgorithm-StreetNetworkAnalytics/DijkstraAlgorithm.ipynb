{
 "cells": [
  {
   "cell_type": "markdown",
   "metadata": {},
   "source": [
    "# Geog 573 (675) Advanced Geocomputing and Geospatial Big Data Analytics\n",
    "### Meiliu Wu (mwu233@wisc.edu)\n",
    "### Topics: Shortest Path Algorithm and Street Network Analytics"
   ]
  },
  {
   "cell_type": "markdown",
   "metadata": {},
   "source": [
    "# Dijkstra Algorithm for Shortest Path in undirected networks"
   ]
  },
  {
   "cell_type": "code",
   "execution_count": 30,
   "metadata": {},
   "outputs": [
    {
     "name": "stdout",
     "output_type": "stream",
     "text": [
      "initlization:\n",
      "('nodes: ', ['A', 'B', 'C', 'D', 'E'])\n",
      "('edges: ', [[0, 7, 2, 0, 0], [7, 0, 0, 2, 0], [2, 0, 0, 2, 0], [0, 2, 2, 0, 1], [0, 0, 0, 1, 0]])\n",
      "compute the shortest path from origin to destination:\n",
      "(['E', 'D', 'C', 'A'], 5)\n"
     ]
    }
   ],
   "source": [
    "import sys\n",
    "import os\n",
    "import math\n",
    "import string\n",
    "\n",
    "## Based on your own preference and thinking of Networks, choose one of the following class to implement the graph.\n",
    "\n",
    "class Graph():\n",
    "    def __init__(self, weighted_edges):\n",
    "        # Implement the initlization here\n",
    "        print (\"initlization:\")\n",
    "\n",
    "    def getShortestPath(self,origin,destination):\n",
    "        # Implement the method here\n",
    "        print (\"compute the shortest path from origin to destination:\")\n",
    "        return #  return the shortst path and its length\n",
    "       \n",
    "\n",
    "class Graph_AdjacencyMatrix():\n",
    "    def __init__(self,adjM):\n",
    "        # Implement the initlization here\n",
    "        print (\"initlization:\")\n",
    "        self.edges = adjM\n",
    "        self.nodes = []\n",
    "        \n",
    "        # set up the nodes list\n",
    "        nodesSize = len(adjM)\n",
    "        for x, y in zip(range(len(adjM)), string.ascii_uppercase):\n",
    "            self.nodes.append(y)\n",
    "        print('nodes: ',self.nodes)\n",
    "        print('edges: ',self.edges)\n",
    "        #print('edges[0]: ',self.edges[0])\n",
    "        \n",
    "    def getShortestPath(self,origin,destination):\n",
    "        # Implement the method here\n",
    "        print (\"compute the shortest path from origin to destination:\")\n",
    "        \n",
    "        # set up distance list\n",
    "        dList = {node: float(\"inf\") for node in self.nodes}\n",
    "        dList[origin] = 0\n",
    "        #print(dList)\n",
    "        \n",
    "        # set up the parent for the list of nodes\n",
    "        previous = {node: None for node in self.nodes}\n",
    "        #print(previous)\n",
    "        \n",
    "        # set up queue list\n",
    "        queue = self.nodes[:]\n",
    "        \n",
    "        while queue:\n",
    "            current_vertex = min(queue, key=lambda node: dList[node]) # e.g., 'A'\n",
    "            queue.remove(current_vertex)\n",
    "            \n",
    "            # detect unexpected error\n",
    "            if dList[current_vertex] == float(\"inf\") or current_vertex == destination:\n",
    "                break\n",
    "            \n",
    "            # update the neighbors of the current node\n",
    "            current_index = ord(current_vertex) - 65\n",
    "            for i in range(len(dList)):\n",
    "                neighbor = chr(65+i)\n",
    "                dist = self.edges[current_index][i]\n",
    "                if (dist > 0) and (neighbor in queue):\n",
    "                    newD = dList[current_vertex] + dist\n",
    "                    if newD < dList[neighbor]:\n",
    "                        dList[neighbor] = newD\n",
    "                        previous[neighbor] = current_vertex\n",
    "        \n",
    "        path = []\n",
    "        temp = destination\n",
    "        while temp:\n",
    "            path.append(temp)\n",
    "            temp = previous[temp]\n",
    "                    \n",
    "        path.reverse()\n",
    "        \n",
    "        return path, dList[destination] # return the shortst path and its length\n",
    "\n",
    "if __name__ == \"__main__\":\n",
    "    # option 1\n",
    "#     weighted_edges = [(\"A\", \"B\", 1), (\"A\", \"C\", 2),(\"B\", \"D\", 2),(\"C\", \"D\", 2),(\"D\", \"E\", 1)]\n",
    "#     print(weighted_edges)\n",
    "#     new_g = Graph(weighted_edges)\n",
    "#     new_g.getShortestPath(\"A\",\"E\")\n",
    "    # option 2\n",
    "    adjM=[[0, 7, 2, 0, 0], \n",
    "          [7, 0, 0, 2, 0], \n",
    "          [2, 0, 0, 2, 0], \n",
    "          [0, 2, 2, 0, 1], \n",
    "          [0, 0, 0, 1, 0]]; \n",
    "    #print(adjM)\n",
    "    new_g = Graph_AdjacencyMatrix(adjM)\n",
    "    print(new_g.getShortestPath(\"E\",\"A\"))"
   ]
  },
  {
   "cell_type": "markdown",
   "metadata": {},
   "source": [
    "# OSMnx: Download and Create Street Networks from OpenStreetMap\n",
    "Source URL: https://github.com/gboeing/osmnx <br>\n",
    "Notebook Examples: https://github.com/gboeing/osmnx-examples/blob/master/notebooks/ <br>\n",
    "Histograms:  a bar chart representing a frequency distribution https://matplotlib.org/gallery/statistics/hist.html"
   ]
  },
  {
   "cell_type": "markdown",
   "metadata": {},
   "source": [
    "# Lab 4 Tasks (20 pts)"
   ]
  },
  {
   "cell_type": "markdown",
   "metadata": {},
   "source": [
    "### Hand-in  (Assigned: 03/28/2019; Due: 04/11/2019)\n",
    "•\tPlease collect your answers into Jupyter notebooks .ipynb or .py files called lab4_yourname.ipynb or lab4_yourname.py  <br>\n",
    "•   Submit all the code and data files to the assignment folder called “Lab 4 Submission”. Notice that if you are using GIS shapefile for street networks, you should upload all the associated files with the same name not just the .shp file.<br>\n",
    "•\tInclude appropriate comments to explain what each line or block of code accomplishes. You must comment your code for full credit. <br>"
   ]
  },
  {
   "cell_type": "markdown",
   "metadata": {},
   "source": [
    "Question (1) Finish your Python code for computing the shortest path for an undirected graph.  <br>\n",
    "Question (2) Use the OSMnx open-source python tool, download a street network for a city (e.g., Madison, WI). Compute and visualize the three centrality measures (degree, closeness, betweenness) for the city street network that you downloaded. You can choose either \"nodes\" or \"edges\" for computing the centrality scores (More details can be found in the Notebook Examples). For visualizations, two kinds of visualization products should be included for each type of centrality: Maps and Histograms. Comment on your findings on the centrality distributions. "
   ]
  }
 ],
 "metadata": {
  "kernelspec": {
   "display_name": "Python 2",
   "language": "python",
   "name": "python2"
  },
  "language_info": {
   "codemirror_mode": {
    "name": "ipython",
    "version": 2
   },
   "file_extension": ".py",
   "mimetype": "text/x-python",
   "name": "python",
   "nbconvert_exporter": "python",
   "pygments_lexer": "ipython2",
   "version": "2.7.14"
  }
 },
 "nbformat": 4,
 "nbformat_minor": 1
}
