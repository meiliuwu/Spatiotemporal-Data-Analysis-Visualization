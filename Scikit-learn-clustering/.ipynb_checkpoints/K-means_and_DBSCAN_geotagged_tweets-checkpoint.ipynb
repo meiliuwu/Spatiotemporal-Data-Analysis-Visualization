{
 "cells": [
  {
   "cell_type": "markdown",
   "metadata": {},
   "source": [
    "# Geog 573 (675) Advanced Geocomputing and Geospatial Big Data Analytics\n",
    "### Meiliu Wu (mwu233@wisc.edu)\n",
    "### Lab3: Vector Computation and Spatial Clustering"
   ]
  },
  {
   "cell_type": "markdown",
   "metadata": {},
   "source": [
    "#### Lab 3 Tasks & hand-in\n",
    "•\tPlease collect your answers in a single .ipynb or .py file called lab3_yourname.ipynb or lab3_yourname.py <br>\n",
    "•\tSubmit all the code and data files to the assignment folder called “Lab 3”. Notice that if you are using exisiting GIS shapefile, you should upload all the associated files with the same name not just the .shp file.<br>\n",
    "•\tInclude appropriate comments to explain what each line or block of code accomplishes. You must comment your code for full credit. <br>"
   ]
  },
  {
   "cell_type": "markdown",
   "metadata": {},
   "source": [
    "Question (1) Finish your code for computing the area, the centriod, and the minimum bounding envelop of a simple polygon.  <br>\n",
    "Question (2) In lab2, you created python scripts to collect 1000 geotagged tweets based on your interested hashtags/keywords and the geographic region using the Twitter Search API, save the data in the JSON format. In this lab, you need to incoprate a self-defined area unit (i.e., a polygon) using WKT or GeoJSON format or an exisiting geographic boundnary \"Shapefile\" in GIS format to spatially extract those geotagged tweets within this polygon and save them as a point set.<br>\n",
    "Question (3) Perform the K-means and the DBSCAN spatial clustering analysis on your geotagged tweets (i.e., the point set extracted from the question 2); comment on your identified patterns. "
   ]
  },
  {
   "cell_type": "markdown",
   "metadata": {},
   "source": [
    "#### Due Date: Two weeks later (March. 14, 2019)"
   ]
  },
  {
   "cell_type": "markdown",
   "metadata": {},
   "source": [
    "## Q1 Geometric Computation"
   ]
  },
  {
   "cell_type": "markdown",
   "metadata": {},
   "source": [
    "#### How to caculate the area of a polygon \n",
    "https://www.wikihow.com/Calculate-the-Area-of-a-Polygon"
   ]
  },
  {
   "cell_type": "code",
   "execution_count": 1,
   "metadata": {},
   "outputs": [
    {
     "name": "stdout",
     "output_type": "stream",
     "text": [
      "caculate the area of a polygon\n",
      "    Area:  2.0 \n",
      "\n",
      "get the centroid of a polygon\n",
      "caculate the area of a polygon\n",
      "    Centroid: ( 1.0 , 1.0 )\n",
      "\n",
      "get the minumum bounding envelop of a polygon\n",
      "    Envelop points # 0 ( 0 , 0 )\n",
      "    Envelop points # 1 ( 2 , 0 )\n",
      "    Envelop points # 2 ( 2 , 2 )\n",
      "    Envelop points # 3 ( 0 , 2 )\n",
      "\n",
      "\n",
      "\n",
      "caculate the area of a polygon\n",
      "    Area:  5.0 \n",
      "\n",
      "get the centroid of a polygon\n",
      "caculate the area of a polygon\n",
      "    Centroid: ( 0.7333333333333333 , 1.4 )\n",
      "\n",
      "get the minumum bounding envelop of a polygon\n",
      "    Envelop points # 0 ( -1 , 0 )\n",
      "    Envelop points # 1 ( 2 , 0 )\n",
      "    Envelop points # 2 ( 2 , 3 )\n",
      "    Envelop points # 3 ( -1 , 3 )\n"
     ]
    }
   ],
   "source": [
    "import sys\n",
    "import os\n",
    "import math\n",
    "import json\n",
    "\n",
    "class Point:\n",
    "    def __init__(self,x,y):\n",
    "        self.lon = x\n",
    "        self.lat = y\n",
    "        \n",
    "class Polyline:\n",
    "    def __init__(self, points = []):\n",
    "        self.points = points\n",
    "        \n",
    "    def getLength(self): # Euclidean distance\n",
    "        Length = 0.0\n",
    "        for i in range(len(self.points)-1):\n",
    "            Length += math.sqrt((self.points[i+1].lon-self.points[i].lon)**2 +(self.points[i+1].lat-self.points[i].lat)**2)\n",
    "        return Length\n",
    "\n",
    "class Polygon:\n",
    "    def __init__(self, points = []):\n",
    "        self.points = points\n",
    "        \n",
    "    def getArea(self): \n",
    "        # Implement the method here\n",
    "        print(\"caculate the area of a polygon\")\n",
    "        area = 0.0\n",
    "        for i in range(len(self.points)): # this can be both clockwise and anticlockwise order of points\n",
    "            if i == len(self.points)-1:\n",
    "                area += (self.points[i].lon*self.points[0].lat) - (self.points[0].lon*self.points[i].lat)\n",
    "            else:\n",
    "                area += (self.points[i].lon*self.points[i+1].lat) - (self.points[i+1].lon*self.points[i].lat)\n",
    "        area = abs(area) * 0.5 \n",
    "        return area\n",
    "    \n",
    "    def getCentroid(self):\n",
    "        # Implement the method here\n",
    "        print(\"get the centroid of a polygon\")\n",
    "        x = 0.0\n",
    "        y = 0.0\n",
    "        area = self.getArea()\n",
    "        for i in range(len(self.points)):\n",
    "            if i == len(self.points)-1: \n",
    "                x += (self.points[i].lon+self.points[0].lon)*((self.points[i].lon*self.points[0].lat) - (self.points[0].lon*self.points[i].lat))\n",
    "                y += (self.points[i].lat+self.points[0].lat)*((self.points[i].lon*self.points[0].lat) - (self.points[0].lon*self.points[i].lat))\n",
    "            else:\n",
    "                x += (self.points[i].lon+self.points[i+1].lon)*((self.points[i].lon*self.points[i+1].lat) - (self.points[i+1].lon*self.points[i].lat))\n",
    "                y += (self.points[i].lat+self.points[i+1].lat)*((self.points[i].lon*self.points[i+1].lat) - (self.points[i+1].lon*self.points[i].lat))\n",
    "        x = x / (6*area)\n",
    "        y = y / (6*area)\n",
    "        return Point(x,y)\n",
    "        \n",
    "        \n",
    "    def getEnvelop(self):\n",
    "        # Implement the method here\n",
    "        print(\"get the minumum bounding envelop of a polygon\")\n",
    "        xmin = float('inf') #lon\n",
    "        ymin = float('inf') #lat\n",
    "        xmax = -float('inf') #lon\n",
    "        ymax = -float('inf') #lat\n",
    "        \n",
    "        for i in range(len(self.points)):\n",
    "            if self.points[i].lon > xmax:\n",
    "                xmax = self.points[i].lon\n",
    "            if self.points[i].lon < xmin:\n",
    "                xmin = self.points[i].lon\n",
    "                \n",
    "            if self.points[i].lat > ymax:\n",
    "                ymax = self.points[i].lat\n",
    "            if self.points[i].lat < ymin:\n",
    "                ymin = self.points[i].lat\n",
    "        \n",
    "        \n",
    "        p1 = Point(xmin,ymin)\n",
    "        p2 = Point(xmax,ymin)\n",
    "        p3 = Point(xmax,ymax)\n",
    "        p4 = Point(xmin,ymax)\n",
    "        \n",
    "        return Polygon([p1,p2,p3,p4]) # anticlockwise order of points\n",
    "\n",
    "if __name__ == \"__main__\":\n",
    "    \n",
    "    # test #1\n",
    "    pointA=Point(1, 0)\n",
    "    pointB=Point(2, 1)\n",
    "    pointC=Point(1, 2)\n",
    "    pointD=Point(0, 1)\n",
    "    \n",
    "    poly1 = Polygon([pointA,pointB,pointC,pointD])\n",
    "    a = poly1.getArea()\n",
    "    print (\"    Area: \", a, '\\n')\n",
    "    \n",
    "    c = poly1.getCentroid()\n",
    "    print (\"    Centroid: (\", c.lon, ',', c.lat, ')\\n')\n",
    "    \n",
    "    e = poly1.getEnvelop()\n",
    "    for i in range(len(e.points)):\n",
    "        print ('    Envelop points #',i,'(',e.points[i].lon,',',e.points[i].lat,')')\n",
    "        \n",
    "    print ('\\n\\n')\n",
    "        \n",
    "     # test #2\n",
    "    pointA=Point(1, 0)\n",
    "    pointB=Point(2, 0)\n",
    "    pointC=Point(2, 2)\n",
    "    pointD=Point(1, 2)\n",
    "    pointE=Point(0, 3)\n",
    "    pointF=Point(-1, 2)\n",
    "    \n",
    "    poly2 = Polygon([pointA,pointB,pointC,pointD,pointE,pointF])\n",
    "    a = poly2.getArea()\n",
    "    print (\"    Area: \", a, '\\n')\n",
    "    \n",
    "    c = poly2.getCentroid()\n",
    "    print (\"    Centroid: (\", c.lon, ',', c.lat, ')\\n')\n",
    "    \n",
    "    e = poly2.getEnvelop()\n",
    "    for i in range(len(e.points)):\n",
    "        print ('    Envelop points #',i,'(',e.points[i].lon,',',e.points[i].lat,')')\n",
    "    \n"
   ]
  },
  {
   "cell_type": "markdown",
   "metadata": {},
   "source": [
    "### Minimum Bounding Geometry\n",
    "URL: https://pro.arcgis.com/en/pro-app/tool-reference/data-management/minimum-bounding-geometry.htm"
   ]
  },
  {
   "cell_type": "markdown",
   "metadata": {},
   "source": [
    "## Q2 Point within Polygon Check"
   ]
  },
  {
   "cell_type": "markdown",
   "metadata": {},
   "source": [
    "#### Well-know-text (WKT) representation of geometry\n",
    "https://en.wikipedia.org/wiki/Well-known_text_representation_of_geometry <br>\n",
    "\n",
    "#### Another vector processing package: Shapely in addition to GDAL/OGR, ArcPy\n",
    "https://github.com/Toblerity/Shapely\n",
    "\n",
    "<b>Shapely</b> <br>\n",
    "Shapely does manipulating and analyzing data. It’d based on GEOS, the standard library for doing that kind of thing, that is very fast. With Shapely, you can do things like buffers, unions, intersections, centroids, convex hulls, and lots more. It does it all quite efficiently.\n",
    "\n",
    "<b>Fiona</b> <br>\n",
    "Fiona does reading and writing data formats. For this it uses OGR, the most popular open-source geo-conversion system. \n",
    "https://github.com/Toblerity/Fiona"
   ]
  },
  {
   "cell_type": "markdown",
   "metadata": {},
   "source": [
    "## Read Shapefiles\n",
    "(1) Read your shapefile with Fiona, OSGeo/OGR or any Python package using the geo_interface protocol (GeoJSON):"
   ]
  },
  {
   "cell_type": "code",
   "execution_count": 2,
   "metadata": {},
   "outputs": [
    {
     "data": {
      "text/plain": [
       "'GEOGCS[\"NAD83\",DATUM[\"North_American_Datum_1983\",SPHEROID[\"GRS 1980\",6378137,298.257222101,AUTHORITY[\"EPSG\",\"7019\"]],TOWGS84[0,0,0,0,0,0,0],AUTHORITY[\"EPSG\",\"6269\"]],PRIMEM[\"Greenwich\",0,AUTHORITY[\"EPSG\",\"8901\"]],UNIT[\"degree\",0.0174532925199433,AUTHORITY[\"EPSG\",\"9122\"]],AUTHORITY[\"EPSG\",\"4269\"]]'"
      ]
     },
     "execution_count": 2,
     "metadata": {},
     "output_type": "execute_result"
    }
   ],
   "source": [
    "# data source of cb_2017_us_nation_20m.shp: https://www.census.gov/geo/maps-data/data/cbf/cbf_nation.html\n",
    "# check projection\n",
    "import arcpy\n",
    "import os\n",
    "\n",
    "# Set environment settings\n",
    "arcpy.env.overwriteOutput = True\n",
    "\n",
    "# input data is in NAD 1983 UTM Zone 11N coordinate system\n",
    "input_features = r\"cb_2017_us_nation_20m.shp\"\n",
    "\n",
    "from osgeo import ogr\n",
    "infile = ogr.Open(input_features)\n",
    "layer = infile.GetLayer()\n",
    "# crs\n",
    "spatialRef = layer.GetSpatialRef()\n",
    "spatialRef.ExportToWkt()"
   ]
  },
  {
   "cell_type": "code",
   "execution_count": 7,
   "metadata": {},
   "outputs": [
    {
     "name": "stdout",
     "output_type": "stream",
     "text": [
      "done\n"
     ]
    }
   ],
   "source": [
    "# data source of cb_2017_us_nation_20m.shp: https://www.census.gov/geo/maps-data/data/cbf/cbf_nation.html\n",
    "# transform the projection of cb_2017_us_nation_20m.shp from NAD83 to WGS84, in order to be consistent with geotweets crs\n",
    "\n",
    "import arcpy\n",
    "import os\n",
    "\n",
    "# Set environment settings\n",
    "arcpy.env.workspace = r'your path the folder that contains the shapefile' # change to the unzipped folder path\n",
    "arcpy.env.overwriteOutput = True\n",
    "\n",
    "# input data is in NAD 1983 UTM Zone 11N coordinate system\n",
    "input_features = \"cb_2017_us_nation_20m.shp\"\n",
    "\n",
    "# output data\n",
    "output_feature_class = \"cb_2017_us_nation_20m_pro.shp\"\n",
    "\n",
    "# create a spatial reference object for the output coordinate system\n",
    "out_coordinate_system = arcpy.SpatialReference(\"WGS 1984\")\n",
    "in_coordinate_system = arcpy.SpatialReference(\"NAD 1983\")\n",
    "# run the tool\n",
    "arcpy.Project_management(input_features, output_feature_class, out_coordinate_system,'NAD_1983_TO_WGS_1984_1',in_coordinate_system)\n",
    "print('done')"
   ]
  },
  {
   "cell_type": "code",
   "execution_count": 8,
   "metadata": {},
   "outputs": [
    {
     "data": {
      "text/plain": [
       "'GEOGCS[\"WGS 84\",DATUM[\"WGS_1984\",SPHEROID[\"WGS 84\",6378137,298.257223563,AUTHORITY[\"EPSG\",\"7030\"]],AUTHORITY[\"EPSG\",\"6326\"]],PRIMEM[\"Greenwich\",0,AUTHORITY[\"EPSG\",\"8901\"]],UNIT[\"degree\",0.0174532925199433,AUTHORITY[\"EPSG\",\"9122\"]],AUTHORITY[\"EPSG\",\"4326\"]]'"
      ]
     },
     "execution_count": 8,
     "metadata": {},
     "output_type": "execute_result"
    }
   ],
   "source": [
    "# validate\n",
    "from osgeo import ogr\n",
    "infile = ogr.Open(output_feature_class)\n",
    "layer = infile.GetLayer()\n",
    "# crs\n",
    "spatialRef = layer.GetSpatialRef()\n",
    "spatialRef.ExportToWkt()"
   ]
  },
  {
   "cell_type": "code",
   "execution_count": 9,
   "metadata": {},
   "outputs": [
    {
     "name": "stdout",
     "output_type": "stream",
     "text": [
      "done\n"
     ]
    }
   ],
   "source": [
    "# using OGR\n",
    "from osgeo import ogr\n",
    "file = ogr.Open(\"cb_2017_us_nation_20m_pro.shp\") # now the projection is wgs84 epsg:4326\n",
    "shape = file.GetLayer(0)\n",
    "#first feature of the shapefile\n",
    "feature = shape.GetFeature(0)\n",
    "first = feature.ExportToJson()\n",
    "print ('done')\n",
    "#print (first) # (GeoJSON format)"
   ]
  },
  {
   "cell_type": "markdown",
   "metadata": {},
   "source": [
    "(2) conversion to Shapely geometry (with the shape function)"
   ]
  },
  {
   "cell_type": "code",
   "execution_count": 10,
   "metadata": {},
   "outputs": [
    {
     "name": "stdout",
     "output_type": "stream",
     "text": [
      "<class 'str'>\n"
     ]
    }
   ],
   "source": [
    "print (type(first))"
   ]
  },
  {
   "cell_type": "code",
   "execution_count": 11,
   "metadata": {},
   "outputs": [],
   "source": [
    "import ast\n",
    "first = ast.literal_eval(first)"
   ]
  },
  {
   "cell_type": "code",
   "execution_count": 12,
   "metadata": {},
   "outputs": [
    {
     "name": "stdout",
     "output_type": "stream",
     "text": [
      "<class 'dict'>\n"
     ]
    }
   ],
   "source": [
    "print (type(first))"
   ]
  },
  {
   "cell_type": "code",
   "execution_count": 13,
   "metadata": {},
   "outputs": [
    {
     "name": "stdout",
     "output_type": "stream",
     "text": [
      "<class 'shapely.geometry.multipolygon.MultiPolygon'>\n"
     ]
    }
   ],
   "source": [
    "# now use the shape function of Shapely\n",
    "from shapely.geometry import shape\n",
    "shp_geom = shape(first[\"geometry\"])\n",
    "# print (shp_geom)\n",
    "# MULTIPOLYGON ()\n",
    "print (type(shp_geom))\n",
    "#<class 'shapely.geometry.multipolygon.MultiPolygon'>"
   ]
  },
  {
   "cell_type": "markdown",
   "metadata": {},
   "source": [
    "(3) geo-computations (e.g., convexhull, buffer, joins, within, intersection, etc.)"
   ]
  },
  {
   "cell_type": "markdown",
   "metadata": {},
   "source": [
    "# Reading JSON"
   ]
  },
  {
   "cell_type": "code",
   "execution_count": 14,
   "metadata": {},
   "outputs": [
    {
     "name": "stdout",
     "output_type": "stream",
     "text": [
      "done\n"
     ]
    }
   ],
   "source": [
    "import json\n",
    "filename=\"geotweets_0311_CaptainMarvel_all.json\" # geo: all over the world\n",
    "#Read JSON data into the datastore variable\n",
    "if filename:\n",
    "    with open(filename, 'r') as f:\n",
    "        datastore = json.load(f)\n",
    "print('done')\n",
    "#print(datastore)"
   ]
  },
  {
   "cell_type": "code",
   "execution_count": 15,
   "metadata": {},
   "outputs": [
    {
     "name": "stdout",
     "output_type": "stream",
     "text": [
      "33\n",
      "<class 'list'>\n",
      "{'type': 'Point', 'coordinates': [-96.4597, 32.92]}\n"
     ]
    }
   ],
   "source": [
    "print(len(datastore))\n",
    "print(type(datastore))\n",
    "print(datastore[0][\"coordinates\"])"
   ]
  },
  {
   "cell_type": "code",
   "execution_count": 16,
   "metadata": {},
   "outputs": [
    {
     "name": "stdout",
     "output_type": "stream",
     "text": [
      "[<shapely.geometry.point.Point object at 0x000001DE6A6F52B0>, <shapely.geometry.point.Point object at 0x000001DE6A6F53C8>, <shapely.geometry.point.Point object at 0x000001DE64ABCF60>, <shapely.geometry.point.Point object at 0x000001DE6A6F54E0>, <shapely.geometry.point.Point object at 0x000001DE6A6F5400>, <shapely.geometry.point.Point object at 0x000001DE69A9A7F0>, <shapely.geometry.point.Point object at 0x000001DE6A6F5358>, <shapely.geometry.point.Point object at 0x000001DE6A38F470>, <shapely.geometry.point.Point object at 0x000001DE69CF1668>, <shapely.geometry.point.Point object at 0x000001DE69A9A828>, <shapely.geometry.point.Point object at 0x000001DE6A6F5390>, <shapely.geometry.point.Point object at 0x000001DE6A3C1828>]\n",
      "12\n",
      "<class 'list'>\n"
     ]
    }
   ],
   "source": [
    "## draw WKT geometries \n",
    "from numpy import asarray\n",
    "import pylab # python 3.x with newer version of matplotlib.pyplot\n",
    "from shapely.geometry import Point, LineString, Polygon, mapping, shape\n",
    "import json\n",
    "\n",
    "pWithinUS = []\n",
    "usBoundary = shp_geom\n",
    "\n",
    "for p in datastore:\n",
    "    \n",
    "    pt = shape(json.loads(json.dumps(p[\"coordinates\"])))\n",
    "    \n",
    "    if (pt.within(usBoundary)):\n",
    "        pWithinUS.append(pt)\n",
    "    \n",
    "print(pWithinUS)\n",
    "print(len(pWithinUS)) #12 points are within U.S, with total 33 points \n",
    "print(type(pWithinUS))"
   ]
  },
  {
   "cell_type": "code",
   "execution_count": 17,
   "metadata": {},
   "outputs": [
    {
     "name": "stdout",
     "output_type": "stream",
     "text": [
      "-96.4597 32.92\n",
      "<class 'shapely.geometry.point.Point'>\n"
     ]
    }
   ],
   "source": [
    "print(pWithinUS[0].x,pWithinUS[0].y) # x is lon, y is lat\n",
    "print(type(pWithinUS[0]))"
   ]
  },
  {
   "cell_type": "code",
   "execution_count": 18,
   "metadata": {},
   "outputs": [
    {
     "name": "stdout",
     "output_type": "stream",
     "text": [
      "-96.4597 , 32.92\n",
      "-73.98368572 , 40.69101558\n",
      "-157.799 , 21.4092\n",
      "-95.54791 , 29.7162\n",
      "-78.73495859 , 35.75819961\n",
      "-74.4264369 , 41.43081591\n",
      "-97.54341397 , 35.52538198\n",
      "-97.763658 , 30.255772\n",
      "-86.157072 , 39.768936\n",
      "-87.6190333 , 41.8913991\n",
      "-87.632496 , 41.883222\n",
      "-87.64698352 , 41.90848663\n"
     ]
    }
   ],
   "source": [
    "for i in range(len(pWithinUS)):\n",
    "    print(pWithinUS[i].x,',',pWithinUS[i].y,)"
   ]
  },
  {
   "cell_type": "markdown",
   "metadata": {},
   "source": [
    "## Q3 K-means clustering\n",
    "https://scikit-learn.org/stable/modules/generated/sklearn.cluster.KMeans.html#sklearn.cluster.KMeans"
   ]
  },
  {
   "cell_type": "code",
   "execution_count": 19,
   "metadata": {},
   "outputs": [
    {
     "name": "stdout",
     "output_type": "stream",
     "text": [
      "done\n"
     ]
    }
   ],
   "source": [
    "import matplotlib.pyplot as plt\n",
    "from sklearn import datasets\n",
    "from sklearn.cluster import KMeans\n",
    "import pandas as pd\n",
    "import numpy as np\n",
    "\n",
    "print(\"done\")"
   ]
  },
  {
   "cell_type": "code",
   "execution_count": 20,
   "metadata": {},
   "outputs": [
    {
     "name": "stdout",
     "output_type": "stream",
     "text": [
      "[ -96.4597       32.92        -73.98368572   40.69101558 -157.799        21.4092\n",
      "  -95.54791      29.7162      -78.73495859   35.75819961  -74.4264369\n",
      "   41.43081591  -97.54341397   35.52538198  -97.763658     30.255772\n",
      "  -86.157072     39.768936    -87.6190333    41.8913991   -87.632496\n",
      "   41.883222    -87.64698352   41.90848663]\n",
      "[[ -96.4597       32.92      ]\n",
      " [ -73.98368572   40.69101558]\n",
      " [-157.799        21.4092    ]\n",
      " [ -95.54791      29.7162    ]\n",
      " [ -78.73495859   35.75819961]\n",
      " [ -74.4264369    41.43081591]\n",
      " [ -97.54341397   35.52538198]\n",
      " [ -97.763658     30.255772  ]\n",
      " [ -86.157072     39.768936  ]\n",
      " [ -87.6190333    41.8913991 ]\n",
      " [ -87.632496     41.883222  ]\n",
      " [ -87.64698352   41.90848663]]\n",
      "<class 'numpy.ndarray'>\n"
     ]
    }
   ],
   "source": [
    "a = np.array([])\n",
    "\n",
    "for i in range(len(pWithinUS)):\n",
    "    li = [pWithinUS[i].x,pWithinUS[i].y]\n",
    "    a = np.concatenate((a, li))\n",
    "\n",
    "print(a)\n",
    "\n",
    "a = np.reshape(a, (-1, 2))\n",
    "print(a)\n",
    "print(type(a))"
   ]
  },
  {
   "cell_type": "code",
   "execution_count": 22,
   "metadata": {},
   "outputs": [
    {
     "name": "stdout",
     "output_type": "stream",
     "text": [
      "Index(['lon', 'lat'], dtype='object')\n",
      "[0 2 1 0 2 2 0 0 3 3 3 3]\n"
     ]
    },
    {
     "data": {
      "image/png": "[encoded data removed]",
      "text/plain": [
       "<matplotlib.figure.Figure at 0x1de6a6e9908>"
      ]
     },
     "metadata": {
      "needs_background": "light"
     },
     "output_type": "display_data"
    }
   ],
   "source": [
    "from shapely.geometry import shape\n",
    "import fiona\n",
    "from osgeo import ogr\n",
    "\n",
    "# Store the inputs as a Pandas Dataframe and set the column names\n",
    "attributes = pd.DataFrame(a)\n",
    "attributes.columns = ['lon','lat']\n",
    "print(attributes.columns)\n",
    "\n",
    "# Build the K-Means Clustering Model\n",
    "# K Means Cluster\n",
    "model = KMeans(n_clusters=4)\n",
    "model.fit(attributes)\n",
    "# This is the K-Means Clustering result\n",
    "print(model.labels_)\n",
    "\n",
    "#Visualise the classifier results\n",
    "# Set the size of the plot\n",
    "fig = plt.figure(figsize=(16,8))\n",
    "# Create a colormap\n",
    "colormap = np.array(['red', 'green', 'blue','orange'])\n",
    "plt.scatter(attributes.lon, attributes.lat, c=colormap[model.labels_], s=40)\n",
    "plt.title('K-Mean Clustering')\n",
    "\n",
    "# plot shapefile\n",
    "c = fiona.open('cb_2017_us_nation_20m_pro.shp')\n",
    "pol = c[0]\n",
    "geom = shape(pol['geometry'])\n",
    "\n",
    "axs = fig.add_subplot(111)\n",
    "\n",
    "for i in range(len(geom)):\n",
    "    #exterior coordinates split into two arrays, xs and ys\n",
    "    # which is how matplotlib will need for plotting\n",
    "    \n",
    "    if i in [78,6,7,8,9,10,12,13,14]: #only show the main U.S. continent\n",
    "        xs, ys = geom[i].exterior.xy\n",
    "        #plot it\n",
    "        axs.fill(xs, ys, alpha=0.5, fc='lightgrey', ec='none')\n",
    "\n",
    "# 1 is from hawaii - green >> itself is one cluster\n",
    "# some points are so close to each other that they are overlapped (orange points)\n",
    "# 4 red points are in the mid, south areas\n",
    "# 4 orange points are in the northeast areas\n",
    "# 3 blue points are in the east coast"
   ]
  },
  {
   "cell_type": "markdown",
   "metadata": {},
   "source": [
    "## DBSCAN Clustering\n",
    "https://scikit-learn.org/stable/modules/generated/sklearn.cluster.DBSCAN.html#sklearn.cluster.DBSCAN"
   ]
  },
  {
   "cell_type": "code",
   "execution_count": 24,
   "metadata": {},
   "outputs": [
    {
     "name": "stdout",
     "output_type": "stream",
     "text": [
      "          lon        lat\n",
      "0  -96.459700  32.920000\n",
      "1  -73.983686  40.691016\n",
      "2 -157.799000  21.409200\n",
      "3  -95.547910  29.716200\n",
      "4  -78.734959  35.758200\n",
      "5  -74.426437  41.430816\n",
      "6  -97.543414  35.525382\n",
      "7  -97.763658  30.255772\n",
      "8  -86.157072  39.768936\n",
      "9  -87.619033  41.891399\n",
      "[ 0  1 -1  0  1  1  0  0  2  2  2  2]\n"
     ]
    },
    {
     "data": {
      "image/png": "[encoded data removed]",
      "text/plain": [
       "<matplotlib.figure.Figure at 0x1de75e84fd0>"
      ]
     },
     "metadata": {
      "needs_background": "light"
     },
     "output_type": "display_data"
    }
   ],
   "source": [
    "import numpy as np\n",
    "from sklearn.cluster import DBSCAN\n",
    "from sklearn import metrics\n",
    "from shapely.geometry import shape\n",
    "import fiona\n",
    "\n",
    "attributes = pd.DataFrame(a)\n",
    "attributes.columns = ['lon','lat']\n",
    "print(attributes.head(10)) # check the data\n",
    "\n",
    "# Compute DBSCAN\n",
    "model = DBSCAN(eps=7, min_samples=2) # I consider at least 2 points to be a cluster\n",
    "db=model.fit(attributes)\n",
    "print(db.labels_) #Cluster labels for each point in the dataset given to fit(). Noisy samples are given the label -1.\n",
    "\n",
    "#Visualise the classifier results\n",
    "# Set the size of the plot\n",
    "fig=plt.figure(figsize=(16,8))\n",
    "# Create a colormap\n",
    "colormap = np.array(['red',\"green\",'blue','orange']) # more color choices https://matplotlib.org/examples/color/colormaps_reference.html\n",
    "plt.scatter(attributes.lon, attributes.lat, c=colormap[db.labels_], s=40)\n",
    "plt.title('DBSCAN Clustering')\n",
    "\n",
    "# plot shapefile\n",
    "c = fiona.open('cb_2017_us_nation_20m_pro.shp')\n",
    "pol = c[0]\n",
    "geom = shape(pol['geometry'])\n",
    "\n",
    "axs = fig.add_subplot(111)\n",
    "\n",
    "for i in range(len(geom)):\n",
    "    #exterior coordinates split into two arrays, xs and ys\n",
    "    # which is how matplotlib will need for plotting\n",
    "    \n",
    "    if i in [78,6,7,8,9,10,12,13,14]: #only show the main U.S. continent\n",
    "        xs, ys = geom[i].exterior.xy\n",
    "        #plot it\n",
    "        axs.fill(xs, ys, alpha=0.5, fc='lightgrey', ec='none')\n",
    "\n",
    "# 3 clusters - r,g,b. \n",
    "# 1 point is noisy from Hawaii - orange \n",
    "\n",
    "# some points are so close to each other that they are overlapped (blue points)\n",
    "# 4 red points are in the mid, south areas\n",
    "# 4 blue points are in the northeast areas\n",
    "# 3 green points are in the east coast"
   ]
  },
  {
   "cell_type": "code",
   "execution_count": null,
   "metadata": {},
   "outputs": [],
   "source": []
  }
 ],
 "metadata": {
  "kernelspec": {
   "display_name": "Python 3",
   "language": "python",
   "name": "python3"
  },
  "language_info": {
   "codemirror_mode": {
    "name": "ipython",
    "version": 3
   },
   "file_extension": ".py",
   "mimetype": "text/x-python",
   "name": "python",
   "nbconvert_exporter": "python",
   "pygments_lexer": "ipython3",
   "version": "3.6.2"
  }
 },
 "nbformat": 4,
 "nbformat_minor": 1
}
