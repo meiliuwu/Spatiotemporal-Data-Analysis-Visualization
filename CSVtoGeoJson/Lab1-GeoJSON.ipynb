{
 "cells": [
  {
   "cell_type": "markdown",
   "metadata": {},
   "source": [
    "# Geog 573 (675) Advanced Geocomputing and Geospatial Big Data Analytics\n",
    "# by Prof. Song Gao (song.gao@wisc.edu)\n",
    "# Lab1-GeoJSON"
   ]
  },
  {
   "cell_type": "markdown",
   "metadata": {},
   "source": [
    "## Geospatial Data Formats Review\n"
   ]
  },
  {
   "cell_type": "markdown",
   "metadata": {},
   "source": [
    "## JSON"
   ]
  },
  {
   "cell_type": "markdown",
   "metadata": {},
   "source": [
    "JavaScript Object Notation (JSON): \n",
    "It is an open-standard file format that uses human-readable text to transmit data objects consisting of attribute/key–value pairs and array/list data types (or any other serializable types). "
   ]
  },
  {
   "cell_type": "markdown",
   "metadata": {},
   "source": [
    "## JSON v.s. CSV"
   ]
  },
  {
   "cell_type": "markdown",
   "metadata": {},
   "source": [
    "### 1. JSON is \"self describing\" (human readable) and better at showing hierarchical / relational data\n",
    "e.g., A list of points of interest categories  \n",
    "Yelp Places: https://www.yelp.com/developers/documentation/v3/all_category_list  \n",
    "\n",
    "<br>\n",
    "Twitter Streaming Data API: Filtering Tweets by location\n",
    "https://developer.twitter.com/en/docs/tutorials/filtering-tweets-by-location#usage_examples\n",
    "\n",
    "### 2. CSV will lose data (Q: Why?)\n",
    "\n",
    "Venue Reviews (e.g., Yelp, TripAdvisor)\n",
    "Example: https://gist.githubusercontent.com/shiondev/9569051/raw/0aeff13e78cecd190f7c3877b8e7e30bf9a75e93/sample_datafiniti_json_with_reviews\n",
    "\n",
    "### 3. The standard CSV reader application (Excel) has limitations on the maximum records\n",
    "Excel is great for loading small, highly-structured spreadsheet files. But it’s terrible at loading files that may have 10,000 rows, 100+ columns, with some of these columns populated by unstructured text like addresses, reviews or descriptions. \n",
    "This results in some fields spilling over into adjacent columns, which makes the data unreadable."
   ]
  },
  {
   "cell_type": "code",
   "execution_count": 1,
   "metadata": {},
   "outputs": [
    {
     "name": "stdout",
     "output_type": "stream",
     "text": [
      "['Science Hall', 'N Park St.', ' Madison', ' WI 53593', '2018']\n",
      "['Science Hall', 'N Park St. Madison WI 53593', '2019']\n"
     ]
    }
   ],
   "source": [
    "# Example\n",
    "attributes=\"place,address,year\"\n",
    "data=[]\n",
    "placename = \"Science Hall\"\n",
    "address = \"N Park St., Madison, WI 53593\"\n",
    "year = 2018\n",
    "alist= placename+','+address+','+str(year)\n",
    "data.append(alist)\n",
    "\n",
    "placename = \"Science Hall\"\n",
    "address = \"N Park St. Madison WI 53593\"\n",
    "year = 2019\n",
    "alist= placename+','+address+','+str(year)\n",
    "data.append(alist)\n",
    "\n",
    "for record in data:\n",
    "    recordList = record.split(',')\n",
    "    print (recordList)"
   ]
  },
  {
   "cell_type": "markdown",
   "metadata": {},
   "source": [
    "### 4. JSON is easier to work with at scale\n",
    "Most modern Web APIs natively support JSON input and output. Several database technologies (including most NoSQL variations) support it. It’s significantly easier to work with within most programming languages as well."
   ]
  },
  {
   "cell_type": "markdown",
   "metadata": {},
   "source": [
    "## JSON v.s. XML\n",
    "XML stands for eXtensible Markup Language. XML is a markup language much like HTML. XML was designed to store and transport data. \n"
   ]
  },
  {
   "cell_type": "markdown",
   "metadata": {},
   "source": [
    "JSON Example\n",
    "{\"employees\":[\n",
    "  { \"firstName\":\"John\", \"lastName\":\"Doe\" },\n",
    "  { \"firstName\":\"Anna\", \"lastName\":\"Smith\" },\n",
    "  { \"firstName\":\"Peter\", \"lastName\":\"Jones\" }\n",
    "]}"
   ]
  },
  {
   "cell_type": "markdown",
   "metadata": {},
   "source": [
    "XML Example\n",
    "<employees>\n",
    "  <employee>\n",
    "    <firstName>John</firstName> <lastName>Doe</lastName>\n",
    "  </employee>\n",
    "  <employee>\n",
    "    <firstName>Anna</firstName> <lastName>Smith</lastName>\n",
    "  </employee>\n",
    "  <employee>\n",
    "    <firstName>Peter</firstName> <lastName>Jones</lastName>\n",
    "  </employee>\n",
    "</employees>"
   ]
  },
  {
   "cell_type": "markdown",
   "metadata": {},
   "source": [
    "### JSON is Like XML Because\n",
    "Both JSON and XML are \"self describing\" (human readable) <br>\n",
    "Both JSON and XML are hierarchical (values within values)  <br>\n",
    "Both JSON and XML can be parsed and used by lots of programming languages  <br>\n",
    "Both JSON and XML can be fetched with an XMLHttpRequest  <br>"
   ]
  },
  {
   "cell_type": "markdown",
   "metadata": {},
   "source": [
    "### JSON is Unlike XML Because\n",
    "JSON doesn't use end tag <br>\n",
    "JSON is shorter <br>\n",
    "JSON is quicker to read and write <br>\n",
    "JSON can use arrays <br>\n",
    "JSON are easiler to parse.\n",
    "\n"
   ]
  },
  {
   "cell_type": "markdown",
   "metadata": {},
   "source": [
    "### Example\n",
    "USGS National Land Cover Database (NLCD): https://www.sciencebase.gov/catalog/item/5825a0ebe4b01fad86db699a\n",
    "<br>XML: https://www.sciencebase.gov/catalog/item/5825a0ebe4b01fad86db699a?format=isohtml\n",
    "<br>JSON: https://www.sciencebase.gov/catalog/item/5825a0ebe4b01fad86db699a?format=json"
   ]
  },
  {
   "cell_type": "markdown",
   "metadata": {},
   "source": [
    "## GeoJSON"
   ]
  },
  {
   "cell_type": "markdown",
   "metadata": {},
   "source": [
    "GeoJSON is an open standard geospatial data interchange format that represents simple geographic features and their nonspatial attributes. Based on JavaScript Object Notation (JSON), GeoJSON is a format for encoding a variety of geographic data structures. It uses a geographic coordinate reference system, World Geodetic System 1984, and units of decimal degrees."
   ]
  },
  {
   "cell_type": "code",
   "execution_count": null,
   "metadata": {
    "collapsed": true
   },
   "outputs": [],
   "source": [
    "{\n",
    "  \"type\": \"Feature\",\n",
    "  \"geometry\": {\n",
    "    \"type\": \"Point\",\n",
    "    \"coordinates\": [125.6, 10.1]\n",
    "  },\n",
    "  \"properties\": {\n",
    "    \"name\": \"Dinagat Islands\"\n",
    "  }\n",
    "}"
   ]
  },
  {
   "cell_type": "markdown",
   "metadata": {},
   "source": [
    "## Support Geometry Types\n",
    "Point, LineString, Polygon, MultiPoint, MultiLineString, and MultiPolygon. Geometric objects with additional properties are Feature objects. Sets of features are contained by FeatureCollection objects."
   ]
  },
  {
   "cell_type": "markdown",
   "metadata": {},
   "source": [
    "### Geometry primitives:\n",
    "### Points\n"
   ]
  },
  {
   "cell_type": "code",
   "execution_count": 15,
   "metadata": {},
   "outputs": [
    {
     "data": {
      "text/html": [
       "<img src=\"https://upload.wikimedia.org/wikipedia/commons/thumb/c/c2/SFA_Point.svg/102px-SFA_Point.svg.png\" width=\"100\" height=\"100\"/>"
      ],
      "text/plain": [
       "<IPython.core.display.Image object>"
      ]
     },
     "execution_count": 15,
     "metadata": {},
     "output_type": "execute_result"
    }
   ],
   "source": [
    "from IPython.display import Image\n",
    "from IPython.core.display import HTML \n",
    "Image(url= \"https://upload.wikimedia.org/wikipedia/commons/thumb/c/c2/SFA_Point.svg/102px-SFA_Point.svg.png\", width=100, height=100)"
   ]
  },
  {
   "cell_type": "code",
   "execution_count": null,
   "metadata": {
    "collapsed": true
   },
   "outputs": [],
   "source": [
    "{\n",
    "    \"type\": \"Point\", \n",
    "    \"coordinates\": [30, 10]\n",
    "}"
   ]
  },
  {
   "cell_type": "markdown",
   "metadata": {},
   "source": [
    "### LineString"
   ]
  },
  {
   "cell_type": "code",
   "execution_count": null,
   "metadata": {
    "collapsed": true
   },
   "outputs": [],
   "source": [
    "{\n",
    "    \"type\": \"LineString\", \n",
    "    \"coordinates\": [\n",
    "        [30, 10], [10, 30], [40, 40]\n",
    "    ]\n",
    "}"
   ]
  },
  {
   "cell_type": "code",
   "execution_count": 20,
   "metadata": {},
   "outputs": [
    {
     "data": {
      "text/html": [
       "<img src=\"https://upload.wikimedia.org/wikipedia/commons/thumb/b/b9/SFA_LineString.svg/102px-SFA_LineString.svg.png\" width=\"100\" height=\"100\"/>"
      ],
      "text/plain": [
       "<IPython.core.display.Image object>"
      ]
     },
     "execution_count": 20,
     "metadata": {},
     "output_type": "execute_result"
    }
   ],
   "source": [
    "Image(url= \"https://upload.wikimedia.org/wikipedia/commons/thumb/b/b9/SFA_LineString.svg/102px-SFA_LineString.svg.png\", width=100, height=100)"
   ]
  },
  {
   "cell_type": "markdown",
   "metadata": {},
   "source": [
    "### Polygon"
   ]
  },
  {
   "cell_type": "code",
   "execution_count": null,
   "metadata": {
    "collapsed": true
   },
   "outputs": [],
   "source": [
    "{\n",
    "    \"type\": \"Polygon\", \n",
    "    \"coordinates\": [\n",
    "        [[30, 10], [40, 40], [20, 40], [10, 20], [30, 10]]\n",
    "    ]\n",
    "}"
   ]
  },
  {
   "cell_type": "code",
   "execution_count": 23,
   "metadata": {},
   "outputs": [
    {
     "data": {
      "text/html": [
       "<img src=\"https://upload.wikimedia.org/wikipedia/commons/thumb/3/3f/SFA_Polygon.svg/1280px-SFA_Polygon.svg.png\" width=\"100\" height=\"100\"/>"
      ],
      "text/plain": [
       "<IPython.core.display.Image object>"
      ]
     },
     "execution_count": 23,
     "metadata": {},
     "output_type": "execute_result"
    }
   ],
   "source": [
    "Image(url= \"https://upload.wikimedia.org/wikipedia/commons/thumb/3/3f/SFA_Polygon.svg/1280px-SFA_Polygon.svg.png\", width=100, height=100)"
   ]
  },
  {
   "cell_type": "markdown",
   "metadata": {},
   "source": [
    "### Polygon with hole"
   ]
  },
  {
   "cell_type": "code",
   "execution_count": null,
   "metadata": {
    "collapsed": true
   },
   "outputs": [],
   "source": [
    "{\n",
    "    \"type\": \"Polygon\", \n",
    "    \"coordinates\": [\n",
    "        [[35, 10], [45, 45], [15, 40], [10, 20], [35, 10]], \n",
    "        [[20, 30], [35, 35], [30, 20], [20, 30]]\n",
    "    ]\n",
    "}"
   ]
  },
  {
   "cell_type": "code",
   "execution_count": 24,
   "metadata": {},
   "outputs": [
    {
     "data": {
      "text/html": [
       "<img src=\"https://upload.wikimedia.org/wikipedia/commons/thumb/5/55/SFA_Polygon_with_hole.svg/102px-SFA_Polygon_with_hole.svg.png\" width=\"100\" height=\"100\"/>"
      ],
      "text/plain": [
       "<IPython.core.display.Image object>"
      ]
     },
     "execution_count": 24,
     "metadata": {},
     "output_type": "execute_result"
    }
   ],
   "source": [
    "Image(url= \"https://upload.wikimedia.org/wikipedia/commons/thumb/5/55/SFA_Polygon_with_hole.svg/102px-SFA_Polygon_with_hole.svg.png\",width=100, height=100) "
   ]
  },
  {
   "cell_type": "markdown",
   "metadata": {},
   "source": [
    "## Processing JSON with Python"
   ]
  },
  {
   "cell_type": "markdown",
   "metadata": {},
   "source": [
    "src=\"https://docs.python.org/2/library/json.html#module-json\""
   ]
  },
  {
   "cell_type": "markdown",
   "metadata": {},
   "source": [
    "## Converting Dictionary to JSON in Python\n",
    "json.dumps() converts a dictionary to str object, not a json(dict) object! so you have to load your str into a dict to use it by using json.loads() method\n",
    "<br>\n",
    "See json.dumps() as a save method and json.loads() as a retrieve method."
   ]
  },
  {
   "cell_type": "code",
   "execution_count": 7,
   "metadata": {},
   "outputs": [
    {
     "name": "stdout",
     "output_type": "stream",
     "text": [
      "4.5\n",
      "{\"placetype\": \"coffee shop\", \"rating\": 4.5, \"name\": \"starbucks\"}\n",
      "<type 'str'>\n",
      "<type 'dict'>\n"
     ]
    }
   ],
   "source": [
    "import json\n",
    "\n",
    "r = {'placetype': 'coffee shop', 'name': 'starbucks', 'rating': 4.5}\n",
    "r = json.dumps(r)\n",
    "loaded_r = json.loads(r)\n",
    "print (loaded_r['rating'])\n",
    "print (r)\n",
    "print(type(r)) \n",
    "print(type(loaded_r)) "
   ]
  },
  {
   "cell_type": "markdown",
   "metadata": {},
   "source": [
    "## Conversion from CSV to GeoJSON "
   ]
  },
  {
   "cell_type": "code",
   "execution_count": 2,
   "metadata": {},
   "outputs": [
    {
     "ename": "ImportError",
     "evalue": "No module named pandas",
     "output_type": "error",
     "traceback": [
      "\u001b[1;31m---------------------------------------------------------------------------\u001b[0m",
      "\u001b[1;31mImportError\u001b[0m                               Traceback (most recent call last)",
      "\u001b[1;32m<ipython-input-2-c32d581b6d9f>\u001b[0m in \u001b[0;36m<module>\u001b[1;34m()\u001b[0m\n\u001b[1;32m----> 1\u001b[1;33m \u001b[1;32mimport\u001b[0m \u001b[0mpandas\u001b[0m \u001b[1;32mas\u001b[0m \u001b[0mpd\u001b[0m\u001b[1;33m\u001b[0m\u001b[0m\n\u001b[0m\u001b[0;32m      2\u001b[0m \u001b[1;31m##city_df = pd.read_csv(\"CityPop.csv\") # try header=None\u001b[0m\u001b[1;33m\u001b[0m\u001b[1;33m\u001b[0m\u001b[0m\n\u001b[0;32m      3\u001b[0m \u001b[1;31m##print(city_df.head(5)) #print the first couple of rows\u001b[0m\u001b[1;33m\u001b[0m\u001b[1;33m\u001b[0m\u001b[0m\n",
      "\u001b[1;31mImportError\u001b[0m: No module named pandas"
     ]
    }
   ],
   "source": [
    "import pandas as pd\n",
    "city_df = pd.read_csv(\"CityPop.csv\") # try header=None\n",
    "print(city_df.head(5)) #print the first couple of rows"
   ]
  },
  {
   "cell_type": "markdown",
   "metadata": {},
   "source": [
    "The read_csv() function has an argument called skiprows that allows you to specify the number of lines to skip at the start of the file. if you want to skip the first line, so let's try importing your CSV file with skiprows set equal to 1:"
   ]
  },
  {
   "cell_type": "code",
   "execution_count": 11,
   "metadata": {},
   "outputs": [
    {
     "name": "stdout",
     "output_type": "stream",
     "text": [
      "   10  24.9267101  67.0343704         Karachi       Karachi.1     0  3.99  \\\n",
      "0  11  -34.608509  -58.373489    Buenos_Aires    Buenos Aires  8.10  8.74   \n",
      "1  12   34.053490 -118.245323     Los_Angeles     Los Angeles  8.38  8.93   \n",
      "2  13   39.906570  116.387650         Beijing         Beijing  4.43  4.83   \n",
      "3  14  -22.912161  -43.175011  Rio_de_Janeiro  Rio de Janeiro  6.64  7.56   \n",
      "4  15   14.587430  120.983681          Manila          Manila  3.53  5.00   \n",
      "\n",
      "   5.05   6.03   7.15   8.47  10.02  11.62  13.12  \n",
      "0  9.42   9.96  10.51  11.15  11.85  12.55  13.07  \n",
      "1  9.51  10.18  10.88  11.34  11.81  12.30  12.76  \n",
      "2  5.37   6.02   6.79   8.14   9.76  11.45  12.39  \n",
      "3  8.58   9.09   9.59  10.17  10.80  11.37  11.95  \n",
      "4  5.95   6.89   7.97   9.40   9.96  10.76  11.63  \n"
     ]
    }
   ],
   "source": [
    "city_df = pd.read_csv(\"CityPop.csv\", skiprows = 10)\n",
    "print(city_df.head(5)) #print the first couple of rows"
   ]
  },
  {
   "cell_type": "markdown",
   "metadata": {},
   "source": [
    "### check the data attribute type"
   ]
  },
  {
   "cell_type": "code",
   "execution_count": 12,
   "metadata": {},
   "outputs": [
    {
     "name": "stdout",
     "output_type": "stream",
     "text": [
      "int64\n",
      "float64\n",
      "object\n"
     ]
    }
   ],
   "source": [
    "city_df = pd.read_csv(\"CityPop.csv\")\n",
    "print(city_df['id'].dtypes)\n",
    "print(city_df['latitude'].dtypes)\n",
    "print(city_df['label'].dtypes)"
   ]
  },
  {
   "cell_type": "markdown",
   "metadata": {},
   "source": [
    "Since strings data types have variable length, it is by default stored as object dtype."
   ]
  },
  {
   "cell_type": "markdown",
   "metadata": {},
   "source": [
    "More Tutorials: \n",
    "<br> https://data36.com/pandas-tutorial-1-basics-reading-data-files-dataframes-data-selection/\n",
    "<br> https://www.geeksforgeeks.org/python-read-csv-using-pandas-read_csv/"
   ]
  },
  {
   "cell_type": "code",
   "execution_count": 57,
   "metadata": {},
   "outputs": [
    {
     "name": "stdout",
     "output_type": "stream",
     "text": [
      "['id', 'latitude', 'longitude', 'city', 'label', 'yr1970', 'yr1975', 'yr1980', 'yr1985', 'yr1990', 'yr1995', 'yr2000', 'yr2005', 'yr2010']\n"
     ]
    }
   ],
   "source": [
    "## get the header \n",
    "header=list(city_df.columns.values)\n",
    "print (header)"
   ]
  },
  {
   "cell_type": "code",
   "execution_count": null,
   "metadata": {},
   "outputs": [],
   "source": [
    "## iterate each row  \n",
    "pop_allyears = {} #embeded population dictionary for a city\n",
    "for index, row in city_df.iterrows(): \n",
    "    print (row)\n",
    "    cityname = row[3] # cityname\n",
    "    citylabel = row[4] # city label\n",
    "    pop_allyears['yr1970'] = row[5] # yr1970\n",
    "    pop_allyears['yr1975'] = row[6] # yr1975\n",
    "    pop_allyears['yr1980'] = row[7] # yr1980\n",
    "    #######"
   ]
  },
  {
   "cell_type": "code",
   "execution_count": 14,
   "metadata": {},
   "outputs": [
    {
     "name": "stdout",
     "output_type": "stream",
     "text": [
      "[{'yr1970': 23.3, 'city': 'Tokyo', 'yr1975': 26.61, 'yr1980': 28.55, 'longitude': 139.80894469999998, 'label': 'Tokyo', 'latitude': 35.6832085, 'id': 1L}, {'yr1970': 3.53, 'city': 'New_Delhi', 'yr1975': 4.43, 'yr1980': 5.56, 'longitude': 77.2008133, 'label': 'New Delhi', 'latitude': 28.608280199999996, 'id': 2L}, {'yr1970': 7.62, 'city': 'Sao_Paulo', 'yr1975': 9.61, 'yr1980': 12.09, 'longitude': -46.6546402, 'label': 'Sao Paulo', 'latitude': -23.5628395, 'id': 3L}, {'yr1970': 5.81, 'city': 'Mumbai', 'yr1975': 7.08, 'yr1980': 8.66, 'longitude': 72.8300934, 'label': 'Mumbai', 'latitude': 18.93013, 'id': 4L}, {'yr1970': 8.77, 'city': 'Mexico_City', 'yr1975': 10.69, 'yr1980': 13.01, 'longitude': -99.1331635, 'label': 'Mexico City', 'latitude': 19.4319592, 'id': 5L}, {'yr1970': 16.19, 'city': 'New_York', 'yr1975': 15.88, 'yr1980': 15.6, 'longitude': -73.83270259999999, 'label': 'New York', 'latitude': 40.7820015, 'id': 6L}, {'yr1970': 6.04, 'city': 'Shanghai', 'yr1975': 5.63, 'yr1980': 5.97, 'longitude': 121.4747009, 'label': 'Shanghai', 'latitude': 31.255159399999997, 'id': 7L}, {'yr1970': 6.93, 'city': 'Kolkata', 'yr1975': 7.89, 'yr1980': 9.03, 'longitude': 88.3707809, 'label': 'Kolkata', 'latitude': 22.5650902, 'id': 8L}, {'yr1970': 0.0, 'city': 'Dhaka', 'yr1975': 0.0, 'yr1980': 0.0, 'longitude': 90.39956670000001, 'label': 'Dhaka', 'latitude': 23.7132301, 'id': 9L}, {'yr1970': 0.0, 'city': 'Karachi', 'yr1975': 3.99, 'yr1980': 5.05, 'longitude': 67.0343704, 'label': 'Karachi', 'latitude': 24.9267101, 'id': 10L}, {'yr1970': 8.1, 'city': 'Buenos_Aires', 'yr1975': 8.74, 'yr1980': 9.42, 'longitude': -58.3734894, 'label': 'Buenos Aires', 'latitude': -34.6085091, 'id': 11L}, {'yr1970': 8.38, 'city': 'Los_Angeles', 'yr1975': 8.93, 'yr1980': 9.51, 'longitude': -118.2453232, 'label': 'Los Angeles', 'latitude': 34.05348970000001, 'id': 12L}, {'yr1970': 4.43, 'city': 'Beijing', 'yr1975': 4.83, 'yr1980': 5.37, 'longitude': 116.38764950000001, 'label': 'Beijing', 'latitude': 39.9065704, 'id': 13L}, {'yr1970': 6.64, 'city': 'Rio_de_Janeiro', 'yr1975': 7.56, 'yr1980': 8.58, 'longitude': -43.1750107, 'label': 'Rio de Janeiro', 'latitude': -22.9121609, 'id': 14L}, {'yr1970': 3.53, 'city': 'Manila', 'yr1975': 5.0, 'yr1980': 5.95, 'longitude': 120.98368070000001, 'label': 'Manila', 'latitude': 14.58743, 'id': 15L}, {'yr1970': 9.41, 'city': 'Osaka_Kobe', 'yr1975': 9.84, 'yr1980': 9.99, 'longitude': 133.5659943, 'label': 'Osaka-Kobe', 'latitude': 35.0763016, 'id': 16L}, {'yr1970': 5.58, 'city': 'Cairo', 'yr1975': 6.45, 'yr1980': 7.35, 'longitude': -89.17626949999999, 'label': 'Cairo', 'latitude': 37.005100299999995, 'id': 17L}, {'yr1970': 0.0, 'city': 'Lagos', 'yr1975': 0.0, 'yr1980': 0.0, 'longitude': 3.3887601000000003, 'label': 'Lagos', 'latitude': 6.4547099999999995, 'id': 18L}, {'yr1970': 7.11, 'city': 'Moscow', 'yr1975': 7.62, 'yr1980': 8.14, 'longitude': 37.615020799999996, 'label': 'Moscow', 'latitude': 55.7569695, 'id': 19L}, {'yr1970': 0.0, 'city': 'Istanbul', 'yr1975': 0.0, 'yr1980': 4.4, 'longitude': 28.985799800000002, 'label': 'Istanbul', 'latitude': 41.040958399999994, 'id': 20L}, {'yr1970': 8.35, 'city': 'Paris', 'yr1975': 8.56, 'yr1980': 8.67, 'longitude': 2.3412001, 'label': 'Paris', 'latitude': 48.856929799999996, 'id': 21L}, {'yr1970': 5.31, 'city': 'Seoul', 'yr1975': 6.81, 'yr1980': 8.26, 'longitude': 127.0164719, 'label': 'Seoul', 'latitude': 37.5150185, 'id': 22L}, {'yr1970': 0.0, 'city': 'Chongqing', 'yr1975': 0.0, 'yr1980': 0.0, 'longitude': 106.51934809999999, 'label': 'Chongqing', 'latitude': 29.550949100000004, 'id': 23L}, {'yr1970': 3.92, 'city': 'Jakarta', 'yr1975': 4.81, 'yr1980': 5.98, 'longitude': 106.8275223, 'label': 'Jakarta', 'latitude': -6.1714902, 'id': 24L}, {'yr1970': 7.11, 'city': 'Chicago', 'yr1975': 7.16, 'yr1980': 7.22, 'longitude': -87.6324463, 'label': 'Chicago', 'latitude': 41.8842506, 'id': 25L}, {'yr1970': 0.0, 'city': 'Shenzhen', 'yr1975': 0.0, 'yr1980': 0.0, 'longitude': 114.11878970000001, 'label': 'Shenzhen', 'latitude': 22.556219100000003, 'id': 26L}, {'yr1970': 0.0, 'city': 'Lima', 'yr1975': 3.7, 'yr1980': 4.44, 'longitude': -77.0268021, 'label': 'Lima', 'latitude': -12.0561399, 'id': 27L}, {'yr1970': 0.0, 'city': 'Guangzhou', 'yr1975': 0.0, 'yr1980': 0.0, 'longitude': 113.2552338, 'label': 'Guangzhou', 'latitude': 23.113370899999996, 'id': 28L}, {'yr1970': 0.0, 'city': 'Kinshasa', 'yr1975': 0.0, 'yr1980': 0.0, 'longitude': 15.2895298, 'label': 'Kinshasa', 'latitude': -4.312220099999999, 'id': 29L}, {'yr1970': 7.51, 'city': 'London', 'yr1975': 7.55, 'yr1980': 7.66, 'longitude': -0.12719, 'label': 'London', 'latitude': 51.5064316, 'id': 30L}, {'yr1970': 3.32, 'city': 'Tianjin', 'yr1975': 0.0, 'yr1980': 0.0, 'longitude': 117.2005692, 'label': 'Tianjin', 'latitude': 39.1449394, 'id': 31L}, {'yr1970': 3.46, 'city': 'Hong_Kong', 'yr1975': 3.94, 'yr1980': 4.61, 'longitude': 114.1869659, 'label': 'Hong Kong', 'latitude': 22.3361568, 'id': 32L}, {'yr1970': 3.29, 'city': 'Tehran', 'yr1975': 4.27, 'yr1980': 5.08, 'longitude': 51.4146843, 'label': 'Tehran', 'latitude': 35.6895409, 'id': 33L}, {'yr1970': 0.0, 'city': 'Chennai', 'yr1975': 0.0, 'yr1980': 0.0, 'longitude': 80.188591, 'label': 'Chennai', 'latitude': 13.0503302, 'id': 34L}, {'yr1970': 0.0, 'city': 'Bangkok', 'yr1975': 3.84, 'yr1980': 4.72, 'longitude': 100.5048294, 'label': 'Bangkok', 'latitude': 13.7533503, 'id': 35L}, {'yr1970': 3.98, 'city': 'Saint_Petersburg', 'yr1975': 4.33, 'yr1980': 4.64, 'longitude': 30.3060303, 'label': 'St. Petersburg', 'latitude': 59.9331818, 'id': 36L}, {'yr1970': 3.52, 'city': 'Madrid', 'yr1975': 3.89, 'yr1980': 4.25, 'longitude': -3.5631498999999995, 'label': 'Madrid', 'latitude': 40.451400799999995, 'id': 37L}, {'yr1970': 4.4, 'city': 'Philadelphia', 'yr1975': 4.47, 'yr1980': 4.54, 'longitude': -75.1624527, 'label': 'Philadelphia', 'latitude': 39.9522781, 'id': 38L}, {'yr1970': 3.97, 'city': 'Detroit', 'yr1975': 3.89, 'yr1980': 0.0, 'longitude': -83.04792020000001, 'label': 'Detroit', 'latitude': 42.331680299999995, 'id': 39L}]\n"
     ]
    }
   ],
   "source": [
    "## add the data into a list of dictionaries\n",
    "city_pop_list = []# all cities\n",
    "for row in city_df.itertuples(index=True):\n",
    "    city = {} #embeded population dictionary for a city\n",
    "    city['id'] = getattr(row, \"id\")#\n",
    "    city['latitude'] = getattr(row, \"latitude\")#\n",
    "    city['longitude'] = getattr(row, \"longitude\")#\n",
    "    city['city'] =  getattr(row, \"city\")# cityname\n",
    "    city['label'] =  getattr(row, \"label\")# cityname\n",
    "    city['yr1970'] = getattr(row, \"yr1970\")# yr1970\n",
    "    city['yr1975'] = getattr(row, \"yr1975\") # yr1975\n",
    "    city['yr1980'] = getattr(row, \"yr1980\") # yr1980\n",
    "\n",
    "    city_pop_list.append(city)\n",
    "\n",
    "print (city_pop_list)"
   ]
  },
  {
   "cell_type": "code",
   "execution_count": 15,
   "metadata": {},
   "outputs": [
    {
     "name": "stdout",
     "output_type": "stream",
     "text": [
      "<type 'str'>\n"
     ]
    }
   ],
   "source": [
    " ## convert the dictionary to json\n",
    "import json\n",
    "city_pop_json = json.dumps(city_pop_list)\n",
    "print(type(city_pop_json)) "
   ]
  },
  {
   "cell_type": "markdown",
   "metadata": {},
   "source": [
    "https://stackoverflow.com/questions/9452775/converting-numpy-dtypes-to-native-python-types"
   ]
  },
  {
   "cell_type": "code",
   "execution_count": 19,
   "metadata": {},
   "outputs": [
    {
     "name": "stdout",
     "output_type": "stream",
     "text": [
      "[{'yr1970': 23.3, 'city': 'Tokyo', 'yr1975': 26.61, 'yr1980': 28.55, 'longitude': 139.80894469999998, 'label': 'Tokyo', 'latitude': 35.6832085, 'id': 1L}, {'yr1970': 3.53, 'city': 'New_Delhi', 'yr1975': 4.43, 'yr1980': 5.56, 'longitude': 77.2008133, 'label': 'New Delhi', 'latitude': 28.608280199999996, 'id': 2L}, {'yr1970': 7.62, 'city': 'Sao_Paulo', 'yr1975': 9.61, 'yr1980': 12.09, 'longitude': -46.6546402, 'label': 'Sao Paulo', 'latitude': -23.5628395, 'id': 3L}, {'yr1970': 5.81, 'city': 'Mumbai', 'yr1975': 7.08, 'yr1980': 8.66, 'longitude': 72.8300934, 'label': 'Mumbai', 'latitude': 18.93013, 'id': 4L}, {'yr1970': 8.77, 'city': 'Mexico_City', 'yr1975': 10.69, 'yr1980': 13.01, 'longitude': -99.1331635, 'label': 'Mexico City', 'latitude': 19.4319592, 'id': 5L}, {'yr1970': 16.19, 'city': 'New_York', 'yr1975': 15.88, 'yr1980': 15.6, 'longitude': -73.83270259999999, 'label': 'New York', 'latitude': 40.7820015, 'id': 6L}, {'yr1970': 6.04, 'city': 'Shanghai', 'yr1975': 5.63, 'yr1980': 5.97, 'longitude': 121.4747009, 'label': 'Shanghai', 'latitude': 31.255159399999997, 'id': 7L}, {'yr1970': 6.93, 'city': 'Kolkata', 'yr1975': 7.89, 'yr1980': 9.03, 'longitude': 88.3707809, 'label': 'Kolkata', 'latitude': 22.5650902, 'id': 8L}, {'yr1970': 0.0, 'city': 'Dhaka', 'yr1975': 0.0, 'yr1980': 0.0, 'longitude': 90.39956670000001, 'label': 'Dhaka', 'latitude': 23.7132301, 'id': 9L}, {'yr1970': 0.0, 'city': 'Karachi', 'yr1975': 3.99, 'yr1980': 5.05, 'longitude': 67.0343704, 'label': 'Karachi', 'latitude': 24.9267101, 'id': 10L}, {'yr1970': 8.1, 'city': 'Buenos_Aires', 'yr1975': 8.74, 'yr1980': 9.42, 'longitude': -58.3734894, 'label': 'Buenos Aires', 'latitude': -34.6085091, 'id': 11L}, {'yr1970': 8.38, 'city': 'Los_Angeles', 'yr1975': 8.93, 'yr1980': 9.51, 'longitude': -118.2453232, 'label': 'Los Angeles', 'latitude': 34.05348970000001, 'id': 12L}, {'yr1970': 4.43, 'city': 'Beijing', 'yr1975': 4.83, 'yr1980': 5.37, 'longitude': 116.38764950000001, 'label': 'Beijing', 'latitude': 39.9065704, 'id': 13L}, {'yr1970': 6.64, 'city': 'Rio_de_Janeiro', 'yr1975': 7.56, 'yr1980': 8.58, 'longitude': -43.1750107, 'label': 'Rio de Janeiro', 'latitude': -22.9121609, 'id': 14L}, {'yr1970': 3.53, 'city': 'Manila', 'yr1975': 5.0, 'yr1980': 5.95, 'longitude': 120.98368070000001, 'label': 'Manila', 'latitude': 14.58743, 'id': 15L}, {'yr1970': 9.41, 'city': 'Osaka_Kobe', 'yr1975': 9.84, 'yr1980': 9.99, 'longitude': 133.5659943, 'label': 'Osaka-Kobe', 'latitude': 35.0763016, 'id': 16L}, {'yr1970': 5.58, 'city': 'Cairo', 'yr1975': 6.45, 'yr1980': 7.35, 'longitude': -89.17626949999999, 'label': 'Cairo', 'latitude': 37.005100299999995, 'id': 17L}, {'yr1970': 0.0, 'city': 'Lagos', 'yr1975': 0.0, 'yr1980': 0.0, 'longitude': 3.3887601000000003, 'label': 'Lagos', 'latitude': 6.4547099999999995, 'id': 18L}, {'yr1970': 7.11, 'city': 'Moscow', 'yr1975': 7.62, 'yr1980': 8.14, 'longitude': 37.615020799999996, 'label': 'Moscow', 'latitude': 55.7569695, 'id': 19L}, {'yr1970': 0.0, 'city': 'Istanbul', 'yr1975': 0.0, 'yr1980': 4.4, 'longitude': 28.985799800000002, 'label': 'Istanbul', 'latitude': 41.040958399999994, 'id': 20L}, {'yr1970': 8.35, 'city': 'Paris', 'yr1975': 8.56, 'yr1980': 8.67, 'longitude': 2.3412001, 'label': 'Paris', 'latitude': 48.856929799999996, 'id': 21L}, {'yr1970': 5.31, 'city': 'Seoul', 'yr1975': 6.81, 'yr1980': 8.26, 'longitude': 127.0164719, 'label': 'Seoul', 'latitude': 37.5150185, 'id': 22L}, {'yr1970': 0.0, 'city': 'Chongqing', 'yr1975': 0.0, 'yr1980': 0.0, 'longitude': 106.51934809999999, 'label': 'Chongqing', 'latitude': 29.550949100000004, 'id': 23L}, {'yr1970': 3.92, 'city': 'Jakarta', 'yr1975': 4.81, 'yr1980': 5.98, 'longitude': 106.8275223, 'label': 'Jakarta', 'latitude': -6.1714902, 'id': 24L}, {'yr1970': 7.11, 'city': 'Chicago', 'yr1975': 7.16, 'yr1980': 7.22, 'longitude': -87.6324463, 'label': 'Chicago', 'latitude': 41.8842506, 'id': 25L}, {'yr1970': 0.0, 'city': 'Shenzhen', 'yr1975': 0.0, 'yr1980': 0.0, 'longitude': 114.11878970000001, 'label': 'Shenzhen', 'latitude': 22.556219100000003, 'id': 26L}, {'yr1970': 0.0, 'city': 'Lima', 'yr1975': 3.7, 'yr1980': 4.44, 'longitude': -77.0268021, 'label': 'Lima', 'latitude': -12.0561399, 'id': 27L}, {'yr1970': 0.0, 'city': 'Guangzhou', 'yr1975': 0.0, 'yr1980': 0.0, 'longitude': 113.2552338, 'label': 'Guangzhou', 'latitude': 23.113370899999996, 'id': 28L}, {'yr1970': 0.0, 'city': 'Kinshasa', 'yr1975': 0.0, 'yr1980': 0.0, 'longitude': 15.2895298, 'label': 'Kinshasa', 'latitude': -4.312220099999999, 'id': 29L}, {'yr1970': 7.51, 'city': 'London', 'yr1975': 7.55, 'yr1980': 7.66, 'longitude': -0.12719, 'label': 'London', 'latitude': 51.5064316, 'id': 30L}, {'yr1970': 3.32, 'city': 'Tianjin', 'yr1975': 0.0, 'yr1980': 0.0, 'longitude': 117.2005692, 'label': 'Tianjin', 'latitude': 39.1449394, 'id': 31L}, {'yr1970': 3.46, 'city': 'Hong_Kong', 'yr1975': 3.94, 'yr1980': 4.61, 'longitude': 114.1869659, 'label': 'Hong Kong', 'latitude': 22.3361568, 'id': 32L}, {'yr1970': 3.29, 'city': 'Tehran', 'yr1975': 4.27, 'yr1980': 5.08, 'longitude': 51.4146843, 'label': 'Tehran', 'latitude': 35.6895409, 'id': 33L}, {'yr1970': 0.0, 'city': 'Chennai', 'yr1975': 0.0, 'yr1980': 0.0, 'longitude': 80.188591, 'label': 'Chennai', 'latitude': 13.0503302, 'id': 34L}, {'yr1970': 0.0, 'city': 'Bangkok', 'yr1975': 3.84, 'yr1980': 4.72, 'longitude': 100.5048294, 'label': 'Bangkok', 'latitude': 13.7533503, 'id': 35L}, {'yr1970': 3.98, 'city': 'Saint_Petersburg', 'yr1975': 4.33, 'yr1980': 4.64, 'longitude': 30.3060303, 'label': 'St. Petersburg', 'latitude': 59.9331818, 'id': 36L}, {'yr1970': 3.52, 'city': 'Madrid', 'yr1975': 3.89, 'yr1980': 4.25, 'longitude': -3.5631498999999995, 'label': 'Madrid', 'latitude': 40.451400799999995, 'id': 37L}, {'yr1970': 4.4, 'city': 'Philadelphia', 'yr1975': 4.47, 'yr1980': 4.54, 'longitude': -75.1624527, 'label': 'Philadelphia', 'latitude': 39.9522781, 'id': 38L}, {'yr1970': 3.97, 'city': 'Detroit', 'yr1975': 3.89, 'yr1980': 0.0, 'longitude': -83.04792020000001, 'label': 'Detroit', 'latitude': 42.331680299999995, 'id': 39L}]\n",
      "<type 'str'>\n",
      "Done\n"
     ]
    }
   ],
   "source": [
    "## add the data into a list of dictionaries\n",
    "city_pop_list = []# all cities\n",
    "for row in city_df.itertuples(index=True):\n",
    "    city = {} #embeded population dictionary for a city\n",
    "    city['id'] = getattr(row, \"id\")\n",
    "    city['latitude'] = getattr(row, \"latitude\")\n",
    "    city['longitude'] = getattr(row, \"longitude\")\n",
    "    city['city'] =  getattr(row, \"city\")\n",
    "    city['label'] =  getattr(row, \"label\")\n",
    "    city['yr1970'] = getattr(row, \"yr1970\")\n",
    "    city['yr1975'] = getattr(row, \"yr1975\")\n",
    "    city['yr1980'] = getattr(row, \"yr1980\")\n",
    "    city_pop_list.append(city)\n",
    "print (city_pop_list)\n",
    " ## convert the dictionary to json\n",
    "import json\n",
    "city_pop_json = json.dumps(city_pop_list)\n",
    "print(type(city_pop_json)) \n",
    "\n",
    "## output: write a json file\n",
    "with open('city_pop.json','w') as  fw:\n",
    "    fw.write(city_pop_json)\n",
    "print ('Done')"
   ]
  },
  {
   "cell_type": "markdown",
   "metadata": {},
   "source": [
    "### Lab Assignment 1 (10 points)"
   ]
  },
  {
   "cell_type": "markdown",
   "metadata": {},
   "source": [
    "### Hand-in \n",
    "•\tPlease collect your answers in a single .ipynb or .py file called lab1_yourname.ipynb or lab1_yourname.py <br>\n",
    "•\tSubmit the file to the assignment folder called “Lab 1”. <br>\n",
    "•\tInclude appropriate comments to explain what each line or block of code accomplishes. You must comment your code for full credit. <br>\n",
    "•\tThe GeoJSON file you generated. <br>"
   ]
  },
  {
   "cell_type": "markdown",
   "metadata": {},
   "source": [
    "### Task"
   ]
  },
  {
   "cell_type": "markdown",
   "metadata": {},
   "source": [
    "In last lab, we created python scripts that read in the content of CityPop.csv, store the data in certain containers, and convert them to JSON. \n",
    "Now, you can try to create the GeoJSON format with the consideration of geospatial information."
   ]
  },
  {
   "cell_type": "markdown",
   "metadata": {},
   "source": [
    "Due Date: Two weeks later (Feb. 7, 2019)"
   ]
  }
 ],
 "metadata": {
  "kernelspec": {
   "display_name": "Python 2",
   "language": "python",
   "name": "python2"
  },
  "language_info": {
   "codemirror_mode": {
    "name": "ipython",
    "version": 2
   },
   "file_extension": ".py",
   "mimetype": "text/x-python",
   "name": "python",
   "nbconvert_exporter": "python",
   "pygments_lexer": "ipython2",
   "version": "2.7.14"
  }
 },
 "nbformat": 4,
 "nbformat_minor": 2
}
