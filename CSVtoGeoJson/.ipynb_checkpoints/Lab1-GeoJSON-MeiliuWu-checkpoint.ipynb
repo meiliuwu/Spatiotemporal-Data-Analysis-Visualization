{
 "cells": [
  {
   "cell_type": "markdown",
   "metadata": {},
   "source": [
    "## Geog 573 (675) Advanced Geocomputing and Geospatial Big Data Analytics\n",
    "### Lab1-GeoJSON \n",
    "### By Meiliu Wu, mwu233@wisc.edu"
   ]
  },
  {
   "cell_type": "markdown",
   "metadata": {},
   "source": [
    "### Task: In last lab, we created python scripts that read in the content of CityPop.csv, store the data in certain containers, and convert them to JSON. Now, you can try to create the GeoJSON format with the consideration of geospatial information."
   ]
  },
  {
   "cell_type": "code",
   "execution_count": 1,
   "metadata": {},
   "outputs": [],
   "source": [
    "# import pandas and json packages\n",
    "import pandas as pd\n",
    "import json as js"
   ]
  },
  {
   "cell_type": "code",
   "execution_count": 2,
   "metadata": {},
   "outputs": [
    {
     "name": "stdout",
     "output_type": "stream",
     "text": [
      "   id   latitude   longitude         city        label  yr1970  yr1975  \\\n",
      "0   1  35.683208  139.808945        Tokyo        Tokyo   23.30   26.61   \n",
      "1   2  28.608280   77.200813    New_Delhi    New Delhi    3.53    4.43   \n",
      "2   3 -23.562839  -46.654640    Sao_Paulo    Sao Paulo    7.62    9.61   \n",
      "3   4  18.930130   72.830093       Mumbai       Mumbai    5.81    7.08   \n",
      "4   5  19.431959  -99.133163  Mexico_City  Mexico City    8.77   10.69   \n",
      "\n",
      "   yr1980  yr1985  yr1990  yr1995  yr2000  yr2005  yr2010  \n",
      "0   28.55   30.30   32.53   33.59   34.45   35.62   36.67  \n",
      "1    5.56    7.33    9.73   12.41   15.73   19.49   22.16  \n",
      "2   12.09   13.39   14.78   15.95   17.10   18.65   20.26  \n",
      "3    8.66   10.34   12.31   14.11   16.09   18.21   20.04  \n",
      "4   13.01   14.11   15.31   16.81   18.02   18.73   19.46  \n"
     ]
    }
   ],
   "source": [
    "city_df = pd.read_csv(\"CityPop.csv\") # read the csv file provided\n",
    "print(city_df.head(5)) #print the first five rows"
   ]
  },
  {
   "cell_type": "code",
   "execution_count": 3,
   "metadata": {},
   "outputs": [
    {
     "name": "stdout",
     "output_type": "stream",
     "text": [
      "['id', 'latitude', 'longitude', 'city', 'label', 'yr1970', 'yr1975', 'yr1980', 'yr1985', 'yr1990', 'yr1995', 'yr2000', 'yr2005', 'yr2010']\n"
     ]
    }
   ],
   "source": [
    "## get the header \n",
    "header=list(city_df.columns.values)\n",
    "print (header)"
   ]
  },
  {
   "cell_type": "code",
   "execution_count": 4,
   "metadata": {},
   "outputs": [
    {
     "name": "stdout",
     "output_type": "stream",
     "text": [
      "id             int64\n",
      "latitude     float64\n",
      "longitude    float64\n",
      "city          object\n",
      "label         object\n",
      "yr1970       float64\n",
      "yr1975       float64\n",
      "yr1980       float64\n",
      "yr1985       float64\n",
      "yr1990       float64\n",
      "yr1995       float64\n",
      "yr2000       float64\n",
      "yr2005       float64\n",
      "yr2010       float64\n",
      "dtype: object\n"
     ]
    }
   ],
   "source": [
    "## check the data attribute type\n",
    "print (city_df.dtypes)"
   ]
  },
  {
   "cell_type": "code",
   "execution_count": 5,
   "metadata": {},
   "outputs": [
    {
     "name": "stdout",
     "output_type": "stream",
     "text": [
      "{'type': 'FeatureCollection', 'features': [{'geometry': {'type': 'Point', 'coordinates': [35.6832085, 139.80894469999998]}, 'type': 'Feature', 'properties': {'yr1980': 28.55, 'yr1990': 32.53, 'yr1985': 30.3, 'yr1995': 33.59, 'yr2005': 35.62, 'yr2000': 34.45, 'yr2010': 36.67, 'id': 1L, 'yr1970': 23.3, 'city': 'Tokyo', 'yr1975': 26.61, 'label': 'Tokyo'}}, {'geometry': {'type': 'Point', 'coordinates': [28.608280199999996, 77.2008133]}, 'type': 'Feature', 'properties': {'yr1980': 5.56, 'yr1990': 9.73, 'yr1985': 7.33, 'yr1995': 12.41, 'yr2005': 19.49, 'yr2000': 15.73, 'yr2010': 22.16, 'id': 2L, 'yr1970': 3.53, 'city': 'New_Delhi', 'yr1975': 4.43, 'label': 'New Delhi'}}, {'geometry': {'type': 'Point', 'coordinates': [-23.5628395, -46.6546402]}, 'type': 'Feature', 'properties': {'yr1980': 12.09, 'yr1990': 14.78, 'yr1985': 13.39, 'yr1995': 15.95, 'yr2005': 18.65, 'yr2000': 17.1, 'yr2010': 20.26, 'id': 3L, 'yr1970': 7.62, 'city': 'Sao_Paulo', 'yr1975': 9.61, 'label': 'Sao Paulo'}}, {'geometry': {'type': 'Point', 'coordinates': [18.93013, 72.8300934]}, 'type': 'Feature', 'properties': {'yr1980': 8.66, 'yr1990': 12.31, 'yr1985': 10.34, 'yr1995': 14.11, 'yr2005': 18.21, 'yr2000': 16.09, 'yr2010': 20.04, 'id': 4L, 'yr1970': 5.81, 'city': 'Mumbai', 'yr1975': 7.08, 'label': 'Mumbai'}}, {'geometry': {'type': 'Point', 'coordinates': [19.4319592, -99.1331635]}, 'type': 'Feature', 'properties': {'yr1980': 13.01, 'yr1990': 15.31, 'yr1985': 14.11, 'yr1995': 16.81, 'yr2005': 18.73, 'yr2000': 18.02, 'yr2010': 19.46, 'id': 5L, 'yr1970': 8.77, 'city': 'Mexico_City', 'yr1975': 10.69, 'label': 'Mexico City'}}, {'geometry': {'type': 'Point', 'coordinates': [40.7820015, -73.83270259999999]}, 'type': 'Feature', 'properties': {'yr1980': 15.6, 'yr1990': 16.09, 'yr1985': 15.83, 'yr1995': 16.94, 'yr2005': 18.73, 'yr2000': 17.85, 'yr2010': 19.43, 'id': 6L, 'yr1970': 16.19, 'city': 'New_York', 'yr1975': 15.88, 'label': 'New York'}}, {'geometry': {'type': 'Point', 'coordinates': [31.255159399999997, 121.4747009]}, 'type': 'Feature', 'properties': {'yr1980': 5.97, 'yr1990': 7.82, 'yr1985': 6.85, 'yr1995': 10.17, 'yr2005': 15.18, 'yr2000': 13.22, 'yr2010': 16.58, 'id': 7L, 'yr1970': 6.04, 'city': 'Shanghai', 'yr1975': 5.63, 'label': 'Shanghai'}}, {'geometry': {'type': 'Point', 'coordinates': [22.5650902, 88.3707809]}, 'type': 'Feature', 'properties': {'yr1980': 9.03, 'yr1990': 10.89, 'yr1985': 9.95, 'yr1995': 11.92, 'yr2005': 14.28, 'yr2000': 13.06, 'yr2010': 15.55, 'id': 8L, 'yr1970': 6.93, 'city': 'Kolkata', 'yr1975': 7.89, 'label': 'Kolkata'}}, {'geometry': {'type': 'Point', 'coordinates': [23.7132301, 90.39956670000001]}, 'type': 'Feature', 'properties': {'yr1980': 0.0, 'yr1990': 6.62, 'yr1985': 4.66, 'yr1995': 8.33, 'yr2005': 12.56, 'yr2000': 10.28, 'yr2010': 14.65, 'id': 9L, 'yr1970': 0.0, 'city': 'Dhaka', 'yr1975': 0.0, 'label': 'Dhaka'}}, {'geometry': {'type': 'Point', 'coordinates': [24.9267101, 67.0343704]}, 'type': 'Feature', 'properties': {'yr1980': 5.05, 'yr1990': 7.15, 'yr1985': 6.03, 'yr1995': 8.47, 'yr2005': 11.62, 'yr2000': 10.02, 'yr2010': 13.12, 'id': 10L, 'yr1970': 0.0, 'city': 'Karachi', 'yr1975': 3.99, 'label': 'Karachi'}}, {'geometry': {'type': 'Point', 'coordinates': [-34.6085091, -58.3734894]}, 'type': 'Feature', 'properties': {'yr1980': 9.42, 'yr1990': 10.51, 'yr1985': 9.96, 'yr1995': 11.15, 'yr2005': 12.55, 'yr2000': 11.85, 'yr2010': 13.07, 'id': 11L, 'yr1970': 8.1, 'city': 'Buenos_Aires', 'yr1975': 8.74, 'label': 'Buenos Aires'}}, {'geometry': {'type': 'Point', 'coordinates': [34.05348970000001, -118.2453232]}, 'type': 'Feature', 'properties': {'yr1980': 9.51, 'yr1990': 10.88, 'yr1985': 10.18, 'yr1995': 11.34, 'yr2005': 12.3, 'yr2000': 11.81, 'yr2010': 12.76, 'id': 12L, 'yr1970': 8.38, 'city': 'Los_Angeles', 'yr1975': 8.93, 'label': 'Los Angeles'}}, {'geometry': {'type': 'Point', 'coordinates': [39.9065704, 116.38764950000001]}, 'type': 'Feature', 'properties': {'yr1980': 5.37, 'yr1990': 6.79, 'yr1985': 6.02, 'yr1995': 8.14, 'yr2005': 11.45, 'yr2000': 9.76, 'yr2010': 12.39, 'id': 13L, 'yr1970': 4.43, 'city': 'Beijing', 'yr1975': 4.83, 'label': 'Beijing'}}, {'geometry': {'type': 'Point', 'coordinates': [-22.9121609, -43.1750107]}, 'type': 'Feature', 'properties': {'yr1980': 8.58, 'yr1990': 9.59, 'yr1985': 9.09, 'yr1995': 10.17, 'yr2005': 11.37, 'yr2000': 10.8, 'yr2010': 11.95, 'id': 14L, 'yr1970': 6.64, 'city': 'Rio_de_Janeiro', 'yr1975': 7.56, 'label': 'Rio de Janeiro'}}, {'geometry': {'type': 'Point', 'coordinates': [14.58743, 120.98368070000001]}, 'type': 'Feature', 'properties': {'yr1980': 5.95, 'yr1990': 7.97, 'yr1985': 6.89, 'yr1995': 9.4, 'yr2005': 10.76, 'yr2000': 9.96, 'yr2010': 11.63, 'id': 15L, 'yr1970': 3.53, 'city': 'Manila', 'yr1975': 5.0, 'label': 'Manila'}}, {'geometry': {'type': 'Point', 'coordinates': [35.0763016, 133.5659943]}, 'type': 'Feature', 'properties': {'yr1980': 9.99, 'yr1990': 11.04, 'yr1985': 10.35, 'yr1995': 11.05, 'yr2005': 11.26, 'yr2000': 11.17, 'yr2010': 11.34, 'id': 16L, 'yr1970': 9.41, 'city': 'Osaka_Kobe', 'yr1975': 9.84, 'label': 'Osaka-Kobe'}}, {'geometry': {'type': 'Point', 'coordinates': [37.005100299999995, -89.17626949999999]}, 'type': 'Feature', 'properties': {'yr1980': 7.35, 'yr1990': 9.06, 'yr1985': 8.33, 'yr1995': 9.71, 'yr2005': 10.56, 'yr2000': 10.17, 'yr2010': 11.0, 'id': 17L, 'yr1970': 5.58, 'city': 'Cairo', 'yr1975': 6.45, 'label': 'Cairo'}}, {'geometry': {'type': 'Point', 'coordinates': [6.4547099999999995, 3.3887601000000003]}, 'type': 'Feature', 'properties': {'yr1980': 0.0, 'yr1990': 0.0, 'yr1985': 0.0, 'yr1995': 5.97, 'yr2005': 8.77, 'yr2000': 7.23, 'yr2010': 10.58, 'id': 18L, 'yr1970': 0.0, 'city': 'Lagos', 'yr1975': 0.0, 'label': 'Lagos'}}, {'geometry': {'type': 'Point', 'coordinates': [55.7569695, 37.615020799999996]}, 'type': 'Feature', 'properties': {'yr1980': 8.14, 'yr1990': 8.99, 'yr1985': 8.58, 'yr1995': 9.2, 'yr2005': 10.42, 'yr2000': 10.0, 'yr2010': 10.55, 'id': 19L, 'yr1970': 7.11, 'city': 'Moscow', 'yr1975': 7.62, 'label': 'Moscow'}}, {'geometry': {'type': 'Point', 'coordinates': [41.040958399999994, 28.985799800000002]}, 'type': 'Feature', 'properties': {'yr1980': 4.4, 'yr1990': 6.55, 'yr1985': 5.41, 'yr1995': 7.67, 'yr2005': 9.71, 'yr2000': 8.74, 'yr2010': 10.52, 'id': 20L, 'yr1970': 0.0, 'city': 'Istanbul', 'yr1975': 0.0, 'label': 'Istanbul'}}, {'geometry': {'type': 'Point', 'coordinates': [48.856929799999996, 2.3412001]}, 'type': 'Feature', 'properties': {'yr1980': 8.67, 'yr1990': 9.33, 'yr1985': 8.96, 'yr1995': 9.51, 'yr2005': 10.11, 'yr2000': 9.74, 'yr2010': 10.49, 'id': 21L, 'yr1970': 8.35, 'city': 'Paris', 'yr1975': 8.56, 'label': 'Paris'}}, {'geometry': {'type': 'Point', 'coordinates': [37.5150185, 127.0164719]}, 'type': 'Feature', 'properties': {'yr1980': 8.26, 'yr1990': 10.54, 'yr1985': 9.55, 'yr1995': 10.26, 'yr2005': 9.83, 'yr2000': 9.92, 'yr2010': 9.77, 'id': 22L, 'yr1970': 5.31, 'city': 'Seoul', 'yr1975': 6.81, 'label': 'Seoul'}}, {'geometry': {'type': 'Point', 'coordinates': [29.550949100000004, 106.51934809999999]}, 'type': 'Feature', 'properties': {'yr1980': 0.0, 'yr1990': 0.0, 'yr1985': 0.0, 'yr1995': 0.0, 'yr2005': 0.0, 'yr2000': 0.0, 'yr2010': 9.4, 'id': 23L, 'yr1970': 0.0, 'city': 'Chongqing', 'yr1975': 0.0, 'label': 'Chongqing'}}, {'geometry': {'type': 'Point', 'coordinates': [-6.1714902, 106.8275223]}, 'type': 'Feature', 'properties': {'yr1980': 5.98, 'yr1990': 8.18, 'yr1985': 7.01, 'yr1995': 8.32, 'yr2005': 8.79, 'yr2000': 8.39, 'yr2010': 9.21, 'id': 24L, 'yr1970': 3.92, 'city': 'Jakarta', 'yr1975': 4.81, 'label': 'Jakarta'}}, {'geometry': {'type': 'Point', 'coordinates': [41.8842506, -87.6324463]}, 'type': 'Feature', 'properties': {'yr1980': 7.22, 'yr1990': 7.37, 'yr1985': 7.29, 'yr1995': 7.84, 'yr2005': 8.82, 'yr2000': 8.33, 'yr2010': 9.2, 'id': 25L, 'yr1970': 7.11, 'city': 'Chicago', 'yr1975': 7.16, 'label': 'Chicago'}}, {'geometry': {'type': 'Point', 'coordinates': [22.556219100000003, 114.11878970000001]}, 'type': 'Feature', 'properties': {'yr1980': 0.0, 'yr1990': 0.0, 'yr1985': 0.0, 'yr1995': 0.0, 'yr2005': 7.93, 'yr2000': 0.0, 'yr2010': 9.01, 'id': 26L, 'yr1970': 0.0, 'city': 'Shenzhen', 'yr1975': 0.0, 'label': 'Shenzhen'}}, {'geometry': {'type': 'Point', 'coordinates': [-12.0561399, -77.0268021]}, 'type': 'Feature', 'properties': {'yr1980': 4.44, 'yr1990': 5.84, 'yr1985': 5.12, 'yr1995': 6.58, 'yr2005': 8.08, 'yr2000': 7.29, 'yr2010': 8.94, 'id': 27L, 'yr1970': 0.0, 'city': 'Lima', 'yr1975': 3.7, 'label': 'Lima'}}, {'geometry': {'type': 'Point', 'coordinates': [23.113370899999996, 113.2552338]}, 'type': 'Feature', 'properties': {'yr1980': 0.0, 'yr1990': 0.0, 'yr1985': 0.0, 'yr1995': 0.0, 'yr2005': 8.16, 'yr2000': 7.33, 'yr2010': 8.88, 'id': 28L, 'yr1970': 0.0, 'city': 'Guangzhou', 'yr1975': 0.0, 'label': 'Guangzhou'}}, {'geometry': {'type': 'Point', 'coordinates': [-4.312220099999999, 15.2895298]}, 'type': 'Feature', 'properties': {'yr1980': 0.0, 'yr1990': 0.0, 'yr1985': 0.0, 'yr1995': 0.0, 'yr2005': 0.0, 'yr2000': 0.0, 'yr2010': 8.75, 'id': 29L, 'yr1970': 0.0, 'city': 'Kinshasa', 'yr1975': 0.0, 'label': 'Kinshasa'}}, {'geometry': {'type': 'Point', 'coordinates': [51.5064316, -0.12719]}, 'type': 'Feature', 'properties': {'yr1980': 7.66, 'yr1990': 7.65, 'yr1985': 7.67, 'yr1995': 7.91, 'yr2005': 8.51, 'yr2000': 8.22, 'yr2010': 8.63, 'id': 30L, 'yr1970': 7.51, 'city': 'London', 'yr1975': 7.55, 'label': 'London'}}, {'geometry': {'type': 'Point', 'coordinates': [39.1449394, 117.2005692]}, 'type': 'Feature', 'properties': {'yr1980': 0.0, 'yr1990': 0.0, 'yr1985': 0.0, 'yr1995': 0.0, 'yr2005': 7.28, 'yr2000': 6.67, 'yr2010': 0.0, 'id': 31L, 'yr1970': 3.32, 'city': 'Tianjin', 'yr1975': 0.0, 'label': 'Tianjin'}}, {'geometry': {'type': 'Point', 'coordinates': [22.3361568, 114.1869659]}, 'type': 'Feature', 'properties': {'yr1980': 4.61, 'yr1990': 5.68, 'yr1985': 5.07, 'yr1995': 6.21, 'yr2005': 0.0, 'yr2000': 6.67, 'yr2010': 0.0, 'id': 32L, 'yr1970': 3.46, 'city': 'Hong_Kong', 'yr1975': 3.94, 'label': 'Hong Kong'}}, {'geometry': {'type': 'Point', 'coordinates': [35.6895409, 51.4146843]}, 'type': 'Feature', 'properties': {'yr1980': 5.08, 'yr1990': 6.36, 'yr1985': 5.84, 'yr1995': 6.69, 'yr2005': 0.0, 'yr2000': 6.88, 'yr2010': 0.0, 'id': 33L, 'yr1970': 3.29, 'city': 'Tehran', 'yr1975': 4.27, 'label': 'Tehran'}}, {'geometry': {'type': 'Point', 'coordinates': [13.0503302, 80.188591]}, 'type': 'Feature', 'properties': {'yr1980': 0.0, 'yr1990': 5.34, 'yr1985': 4.75, 'yr1995': 5.84, 'yr2005': 0.0, 'yr2000': 0.0, 'yr2010': 0.0, 'id': 34L, 'yr1970': 0.0, 'city': 'Chennai', 'yr1975': 0.0, 'label': 'Chennai'}}, {'geometry': {'type': 'Point', 'coordinates': [13.7533503, 100.5048294]}, 'type': 'Feature', 'properties': {'yr1980': 4.72, 'yr1990': 5.89, 'yr1985': 5.28, 'yr1995': 6.11, 'yr2005': 0.0, 'yr2000': 0.0, 'yr2010': 0.0, 'id': 35L, 'yr1970': 0.0, 'city': 'Bangkok', 'yr1975': 3.84, 'label': 'Bangkok'}}, {'geometry': {'type': 'Point', 'coordinates': [59.9331818, 30.3060303]}, 'type': 'Feature', 'properties': {'yr1980': 4.64, 'yr1990': 4.99, 'yr1985': 4.84, 'yr1995': 0.0, 'yr2005': 0.0, 'yr2000': 0.0, 'yr2010': 0.0, 'id': 36L, 'yr1970': 3.98, 'city': 'Saint_Petersburg', 'yr1975': 4.33, 'label': 'St. Petersburg'}}, {'geometry': {'type': 'Point', 'coordinates': [40.451400799999995, -3.5631498999999995]}, 'type': 'Feature', 'properties': {'yr1980': 4.25, 'yr1990': 0.0, 'yr1985': 0.0, 'yr1995': 0.0, 'yr2005': 0.0, 'yr2000': 0.0, 'yr2010': 0.0, 'id': 37L, 'yr1970': 3.52, 'city': 'Madrid', 'yr1975': 3.89, 'label': 'Madrid'}}, {'geometry': {'type': 'Point', 'coordinates': [39.9522781, -75.1624527]}, 'type': 'Feature', 'properties': {'yr1980': 4.54, 'yr1990': 0.0, 'yr1985': 0.0, 'yr1995': 0.0, 'yr2005': 0.0, 'yr2000': 0.0, 'yr2010': 0.0, 'id': 38L, 'yr1970': 4.4, 'city': 'Philadelphia', 'yr1975': 4.47, 'label': 'Philadelphia'}}, {'geometry': {'type': 'Point', 'coordinates': [42.331680299999995, -83.04792020000001]}, 'type': 'Feature', 'properties': {'yr1980': 0.0, 'yr1990': 0.0, 'yr1985': 0.0, 'yr1995': 0.0, 'yr2005': 0.0, 'yr2000': 0.0, 'yr2010': 0.0, 'id': 39L, 'yr1970': 3.97, 'city': 'Detroit', 'yr1975': 3.89, 'label': 'Detroit'}}]}\n",
      "<type 'dict'>\n"
     ]
    }
   ],
   "source": [
    "## add the csv data into the 'features' list of dictionaries\n",
    "city_pop_geojson = {\n",
    "    'type': 'FeatureCollection',\n",
    "    'features': [] \n",
    "}\n",
    "\n",
    "for row in city_df.itertuples(index=True):\n",
    "    # embeded a population dictionary for each city\n",
    "    city_pop_geojson['features'].append({\n",
    "        # 'type' attribute \n",
    "        'type': 'Feature', \n",
    "        # 'geometry' attribute \n",
    "        'geometry': {\n",
    "            'type': 'Point',\n",
    "            'coordinates': [getattr(row, \"latitude\"), getattr(row, \"longitude\")],\n",
    "        }, \n",
    "        # 'properties' attribute \n",
    "        'properties': {\n",
    "            'id':getattr(row, \"id\"),\n",
    "            'city':getattr(row, \"city\"), \n",
    "            'label':getattr(row, \"label\"), \n",
    "            'yr1970':getattr(row, \"yr1970\"), \n",
    "            'yr1975':getattr(row, \"yr1975\"), \n",
    "            'yr1980':getattr(row, \"yr1980\"), \n",
    "            'yr1985':getattr(row, \"yr1985\"),\n",
    "            'yr1990':getattr(row, \"yr1990\"),\n",
    "            'yr1995':getattr(row, \"yr1995\"),\n",
    "            'yr2000':getattr(row, \"yr2000\"),\n",
    "            'yr2005':getattr(row, \"yr2005\"),\n",
    "            'yr2010':getattr(row, \"yr2010\"),\n",
    "        } \n",
    "    })\n",
    "print (city_pop_geojson)\n",
    "print (type(city_pop_geojson))"
   ]
  },
  {
   "cell_type": "code",
   "execution_count": 6,
   "metadata": {},
   "outputs": [
    {
     "name": "stdout",
     "output_type": "stream",
     "text": [
      "Done\n"
     ]
    }
   ],
   "source": [
    "## output: write a geojson file\n",
    "with open('city_pop_By_MeiliuWu.geojson','w') as fw:\n",
    "    ## convert the dictionary to geojson\n",
    "    fw.write(js.dumps(city_pop_geojson, indent=2))\n",
    "print ('Done')"
   ]
  },
  {
   "cell_type": "code",
   "execution_count": null,
   "metadata": {},
   "outputs": [],
   "source": []
  }
 ],
 "metadata": {
  "kernelspec": {
   "display_name": "Python 2",
   "language": "python",
   "name": "python2"
  },
  "language_info": {
   "codemirror_mode": {
    "name": "ipython",
    "version": 2
   },
   "file_extension": ".py",
   "mimetype": "text/x-python",
   "name": "python",
   "nbconvert_exporter": "python",
   "pygments_lexer": "ipython2",
   "version": "2.7.14"
  }
 },
 "nbformat": 4,
 "nbformat_minor": 2
}
